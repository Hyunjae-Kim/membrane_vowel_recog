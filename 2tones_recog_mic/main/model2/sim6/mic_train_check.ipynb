{
 "cells": [
  {
   "cell_type": "code",
   "execution_count": 1,
   "metadata": {},
   "outputs": [],
   "source": [
    "import os\n",
    "import time\n",
    "import shutil\n",
    "import argparse\n",
    "import collections\n",
    "import numpy as np\n",
    "import matplotlib.pyplot as plt\n",
    "\n",
    "import torch\n",
    "import torch.nn as nn\n",
    "import torch.nn.functional as F\n",
    "import torch.utils as utils\n",
    "import torch.nn.init as init\n",
    "from torchvision import datasets"
   ]
  },
  {
   "cell_type": "code",
   "execution_count": 2,
   "metadata": {},
   "outputs": [],
   "source": [
    "model_num = 2\n",
    "data_num = 6\n",
    "point_len = 5\n",
    "ch_num = 19\n",
    "time_len =  point_len/10"
   ]
  },
  {
   "cell_type": "code",
   "execution_count": 3,
   "metadata": {},
   "outputs": [],
   "source": [
    "class Model(nn.Module):\n",
    "    def __init__(self, loss):\n",
    "        super(Model, self).__init__()\n",
    "        input_c = ch_num\n",
    "        channel = 256\n",
    "        self.conv1 = nn.Sequential(\n",
    "            nn.Conv1d(input_c, channel, kernel_size=5, stride=1),\n",
    "            nn.LeakyReLU(negative_slope=0.1),\n",
    "            nn.BatchNorm1d(channel))\n",
    "        self.fc1 = nn.Sequential(\n",
    "            nn.Linear(channel, 10),\n",
    "            nn.Softmax(dim=1))\n",
    "        self.loss = loss\n",
    "        \n",
    "    def forward(self, data, target):\n",
    "        x = self.conv1(data)\n",
    "#         print('1', x.size())\n",
    "        x = x.view(x.size()[0],-1)\n",
    "#         print('2', x.size())\n",
    "        h = self.fc1(x)\n",
    "#         print('3', h.size())\n",
    "        \n",
    "        l = self.loss(h, target)\n",
    "        return l, h, target"
   ]
  },
  {
   "cell_type": "code",
   "execution_count": 4,
   "metadata": {},
   "outputs": [],
   "source": [
    "torch.manual_seed(37)\n",
    "torch.cuda.manual_seed_all(37)\n",
    "torch.backends.cudnn.deterministic = True\n",
    "\n",
    "device = torch.device('cuda' if torch.cuda.is_available() else 'cpu')\n",
    "\n",
    "init_input = torch.randn(10,19,5).to(device)\n",
    "init_input.requires_grad=True\n",
    "init_target = torch.zeros((10,10)).to(device)\n",
    "\n",
    "for k in range(10):\n",
    "    init_target[k][k]=1\n",
    "    \n",
    "learning_rate = 0.005\n",
    "loss_func=nn.BCELoss()\n",
    "model = nn.DataParallel(Model(loss_func)).to(device)\n",
    "optimizer = torch.optim.Adam([init_input], lr=learning_rate)\n",
    "\n",
    "model.load_state_dict(torch.load('../../../ckpt/model%d/sim_data%d/%dch/%.1f_ckpt_1000.pt'\\\n",
    "                       %(model_num, data_num, ch_num, time_len)))\n",
    "\n",
    "for param in model.parameters():\n",
    "    param.requires_grad = False"
   ]
  },
  {
   "cell_type": "code",
   "execution_count": 5,
   "metadata": {},
   "outputs": [
    {
     "name": "stderr",
     "output_type": "stream",
     "text": [
      "/opt/anaconda3/envs/khj/lib/python3.7/site-packages/torch/nn/parallel/_functions.py:61: UserWarning: Was asked to gather along dimension 0, but all input tensors were scalars; will instead unsqueeze and return a vector.\n",
      "  warnings.warn('Was asked to gather along dimension 0, but all '\n"
     ]
    },
    {
     "name": "stdout",
     "output_type": "stream",
     "text": [
      "test -  loss : 2.0964496\n",
      "shape check : torch.Size([10, 10]) torch.Size([10, 10])\n",
      "test -  loss : 0.0017728\n",
      "shape check : torch.Size([10, 10]) torch.Size([10, 10])\n",
      "test -  loss : 0.0006921\n",
      "shape check : torch.Size([10, 10]) torch.Size([10, 10])\n",
      "test -  loss : 0.0003912\n",
      "shape check : torch.Size([10, 10]) torch.Size([10, 10])\n",
      "test -  loss : 0.0002524\n",
      "shape check : torch.Size([10, 10]) torch.Size([10, 10])\n",
      "test -  loss : 0.0001739\n",
      "shape check : torch.Size([10, 10]) torch.Size([10, 10])\n",
      "test -  loss : 0.0001248\n",
      "shape check : torch.Size([10, 10]) torch.Size([10, 10])\n",
      "test -  loss : 0.0000923\n",
      "shape check : torch.Size([10, 10]) torch.Size([10, 10])\n",
      "test -  loss : 0.0000714\n",
      "shape check : torch.Size([10, 10]) torch.Size([10, 10])\n",
      "test -  loss : 0.0000560\n",
      "shape check : torch.Size([10, 10]) torch.Size([10, 10])\n"
     ]
    }
   ],
   "source": [
    "a = time.time()\n",
    "loss_list = []\n",
    "for i in range(5000):\n",
    "    optimizer.zero_grad()\n",
    "    loss, output_, target_ = model(init_input, init_target)\n",
    "    loss = loss.sum()\n",
    "    loss.backward()\n",
    "    optimizer.step()\n",
    "    \n",
    "    loss_list.append(loss.cpu().item())\n",
    "    \n",
    "    if i%500==0:\n",
    "        print('test -  loss : %.7f'%(loss_list[-1]))\n",
    "        print('shape check :', np.shape(output_), np.shape(target_))\n",
    "        "
   ]
  },
  {
   "cell_type": "code",
   "execution_count": 6,
   "metadata": {},
   "outputs": [
    {
     "name": "stdout",
     "output_type": "stream",
     "text": [
      "[[1. 0. 0. 0. 0. 0. 0. 0. 0. 0.]\n",
      " [0. 1. 0. 0. 0. 0. 0. 0. 0. 0.]\n",
      " [0. 0. 1. 0. 0. 0. 0. 0. 0. 0.]\n",
      " [0. 0. 0. 1. 0. 0. 0. 0. 0. 0.]\n",
      " [0. 0. 0. 0. 1. 0. 0. 0. 0. 0.]\n",
      " [0. 0. 0. 0. 0. 1. 0. 0. 0. 0.]\n",
      " [0. 0. 0. 0. 0. 0. 1. 0. 0. 0.]\n",
      " [0. 0. 0. 0. 0. 0. 0. 1. 0. 0.]\n",
      " [0. 0. 0. 0. 0. 0. 0. 0. 1. 0.]\n",
      " [0. 0. 0. 0. 0. 0. 0. 0. 0. 1.]] \n",
      "\n",
      " [[1. 0. 0. 0. 0. 0. 0. 0. 0. 0.]\n",
      " [0. 1. 0. 0. 0. 0. 0. 0. 0. 0.]\n",
      " [0. 0. 1. 0. 0. 0. 0. 0. 0. 0.]\n",
      " [0. 0. 0. 1. 0. 0. 0. 0. 0. 0.]\n",
      " [0. 0. 0. 0. 1. 0. 0. 0. 0. 0.]\n",
      " [0. 0. 0. 0. 0. 1. 0. 0. 0. 0.]\n",
      " [0. 0. 0. 0. 0. 0. 1. 0. 0. 0.]\n",
      " [0. 0. 0. 0. 0. 0. 0. 1. 0. 0.]\n",
      " [0. 0. 0. 0. 0. 0. 0. 0. 1. 0.]\n",
      " [0. 0. 0. 0. 0. 0. 0. 0. 0. 1.]]\n",
      "torch.Size([10, 19, 5])\n"
     ]
    }
   ],
   "source": [
    "output_ = output_.cpu().detach().numpy()\n",
    "target_ = target_.cpu().detach().numpy()\n",
    "input_ = init_input.cpu().detach().numpy()\n",
    "print(np.round(output_,3), '\\n\\n',target_)\n",
    "\n",
    "print(init_input.size())"
   ]
  },
  {
   "cell_type": "code",
   "execution_count": 8,
   "metadata": {},
   "outputs": [
    {
     "data": {
      "image/png": "[encoded data removed]",
      "text/plain": [
       "<Figure size 432x288 with 1 Axes>"
      ]
     },
     "metadata": {
      "needs_background": "light"
     },
     "output_type": "display_data"
    },
    {
     "data": {
      "image/png": "[encoded data removed]",
      "text/plain": [
       "<Figure size 432x288 with 1 Axes>"
      ]
     },
     "metadata": {
      "needs_background": "light"
     },
     "output_type": "display_data"
    },
    {
     "data": {
      "image/png": "[encoded data removed]",
      "text/plain": [
       "<Figure size 432x288 with 1 Axes>"
      ]
     },
     "metadata": {
      "needs_background": "light"
     },
     "output_type": "display_data"
    },
    {
     "data": {
      "image/png": "[encoded data removed]",
      "text/plain": [
       "<Figure size 432x288 with 1 Axes>"
      ]
     },
     "metadata": {
      "needs_background": "light"
     },
     "output_type": "display_data"
    },
    {
     "data": {
      "image/png": "[encoded data removed]",
      "text/plain": [
       "<Figure size 432x288 with 1 Axes>"
      ]
     },
     "metadata": {
      "needs_background": "light"
     },
     "output_type": "display_data"
    },
    {
     "data": {
      "image/png": "[encoded data removed]",
      "text/plain": [
       "<Figure size 432x288 with 1 Axes>"
      ]
     },
     "metadata": {
      "needs_background": "light"
     },
     "output_type": "display_data"
    },
    {
     "data": {
      "image/png": "[encoded data removed]",
      "text/plain": [
       "<Figure size 432x288 with 1 Axes>"
      ]
     },
     "metadata": {
      "needs_background": "light"
     },
     "output_type": "display_data"
    },
    {
     "data": {
      "image/png": "[encoded data removed]",
      "text/plain": [
       "<Figure size 432x288 with 1 Axes>"
      ]
     },
     "metadata": {
      "needs_background": "light"
     },
     "output_type": "display_data"
    },
    {
     "data": {
      "image/png": "[encoded data removed]",
      "text/plain": [
       "<Figure size 432x288 with 1 Axes>"
      ]
     },
     "metadata": {
      "needs_background": "light"
     },
     "output_type": "display_data"
    },
    {
     "data": {
      "image/png": "[encoded data removed]",
      "text/plain": [
       "<Figure size 432x288 with 1 Axes>"
      ]
     },
     "metadata": {
      "needs_background": "light"
     },
     "output_type": "display_data"
    }
   ],
   "source": [
    "for k in range(10):\n",
    "    plt.imshow(input_[k], vmin=-3, vmax=3)\n",
    "    plt.show()"
   ]
  }
 ],
 "metadata": {
  "kernelspec": {
   "display_name": "Python 3",
   "language": "python",
   "name": "python3"
  },
  "language_info": {
   "codemirror_mode": {
    "name": "ipython",
    "version": 3
   },
   "file_extension": ".py",
   "mimetype": "text/x-python",
   "name": "python",
   "nbconvert_exporter": "python",
   "pygments_lexer": "ipython3",
   "version": "3.7.4"
  }
 },
 "nbformat": 4,
 "nbformat_minor": 2
}
