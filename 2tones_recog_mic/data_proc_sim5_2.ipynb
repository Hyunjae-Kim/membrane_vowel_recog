{
 "cells": [
  {
   "cell_type": "code",
   "execution_count": 1,
   "metadata": {},
   "outputs": [],
   "source": [
    "import numpy as np\n",
    "import matplotlib.pyplot as plt\n",
    "from python_speech_features import mfcc"
   ]
  },
  {
   "cell_type": "code",
   "execution_count": 4,
   "metadata": {},
   "outputs": [
    {
     "name": "stdout",
     "output_type": "stream",
     "text": [
      "(20, 20)\n"
     ]
    }
   ],
   "source": [
    "np.random.seed(37)\n",
    "\n",
    "data_num = 5\n",
    "run_type = 'sweep2'\n",
    "label_set = []\n",
    "for g1 in range(0,20):\n",
    "    g2 = 19-g1\n",
    "    if g1==g2: print('same'); continue\n",
    "    dL = [0, 0, 0, 0, 0, 0, 0, 0, 0, 0, 0, 0, 0, 0, 0, 0, 0, 0, 0, 0]\n",
    "    dL[g1] = 1\n",
    "    dL[g2] = 1\n",
    "    label_set.append(dL)\n",
    "label_set = np.array(label_set)\n",
    "print(np.shape(label_set))\n",
    "\n",
    "ch_list = [19]\n",
    "time_list = [0.5, 1, 5, 10, 20]\n",
    "\n",
    "ch_idx = [[0,1,2,3,4,5,6,7,8,9,10,11,12,13,14,15,16,17,18]]"
   ]
  },
  {
   "cell_type": "code",
   "execution_count": 5,
   "metadata": {},
   "outputs": [],
   "source": [
    "if run_type=='sweep1':\n",
    "    for ccc in range(len(ch_list)):\n",
    "        ch_num = ch_list[ccc]\n",
    "        for ttt in time_list:\n",
    "            time_len = ttt\n",
    "            point_len = int(50000*time_len/1000)\n",
    "            count = -1\n",
    "            for freq1 in range(600, 700, 5):\n",
    "                freq2 = 600+(695-freq1)\n",
    "                if freq1==freq2: print('same'); continue\n",
    "\n",
    "                count += 1\n",
    "                data = np.load('data/sim_data%d_2/mic_1/%d_%d.npy'%(data_num, freq1, freq2))[:,ch_idx[ccc],500:]\n",
    "                test = data[:,:,:point_len]\n",
    "                lab_test = np.array([label_set[count]]*len(test))\n",
    "                if count==0:\n",
    "                    testX = test\n",
    "                    testY = lab_test\n",
    "                else:\n",
    "                    testX = np.concatenate((testX, test))\n",
    "                    testY = np.concatenate((testY, lab_test))\n",
    "\n",
    "            np.save('npy_data/sim_data%d_2/%dch_1/%dch_1_%.1fms_testX.npy'%(data_num, ch_num, ch_num, time_len), testX[:,:,::5])\n",
    "            np.save('npy_data/sim_data%d_2/%dch_1/%dch_1_%.1fms_testY.npy'%(data_num, ch_num, ch_num, time_len), testY)\n",
    "\n",
    "            print('%dch data shape  -  %.1f ms'%(ch_num, time_len))\n",
    "            print('test set :', np.shape(testX[:,:,::5]) ,np.shape(testY))"
   ]
  },
  {
   "cell_type": "code",
   "execution_count": 6,
   "metadata": {},
   "outputs": [
    {
     "name": "stdout",
     "output_type": "stream",
     "text": [
      "19ch data shape  -  0.5 ms\n",
      "test set : (2000, 19, 5) (2000, 20)\n",
      "19ch data shape  -  1.0 ms\n",
      "test set : (2000, 19, 10) (2000, 20)\n",
      "19ch data shape  -  5.0 ms\n",
      "test set : (2000, 19, 50) (2000, 20)\n",
      "19ch data shape  -  10.0 ms\n",
      "test set : (2000, 19, 100) (2000, 20)\n",
      "19ch data shape  -  20.0 ms\n",
      "test set : (2000, 19, 200) (2000, 20)\n"
     ]
    }
   ],
   "source": [
    "if run_type=='sweep2':\n",
    "    for ccc in range(len(ch_list)):\n",
    "        ch_num = ch_list[ccc]\n",
    "        for ttt in time_list:\n",
    "            time_len = ttt\n",
    "            point_len = int(50000*time_len/1000)\n",
    "            count = -1\n",
    "            for freq1 in range(600, 700, 5):\n",
    "                freq2 = 600+(695-freq1)\n",
    "                if freq1==freq2: print('same'); continue\n",
    "\n",
    "                count += 1\n",
    "                data = np.load('data/sim_data%d_2/mic_2/%d_%d.npy'%(data_num, freq1, freq2))[:,ch_idx[ccc],500:]\n",
    "                test = data[:,:,:point_len]\n",
    "                lab_test = np.array([label_set[count]]*len(test))\n",
    "                if count==0:\n",
    "                    testX = test\n",
    "                    testY = lab_test\n",
    "                else:\n",
    "                    testX = np.concatenate((testX, test))\n",
    "                    testY = np.concatenate((testY, lab_test))\n",
    "\n",
    "            np.save('npy_data/sim_data%d_2/%dch_2/%dch_2_%.1fms_testX.npy'%(data_num, ch_num, ch_num, time_len), testX[:,:,::5])\n",
    "            np.save('npy_data/sim_data%d_2/%dch_2/%dch_2_%.1fms_testY.npy'%(data_num, ch_num, ch_num, time_len), testY)\n",
    "\n",
    "            print('%dch data shape  -  %.1f ms'%(ch_num, time_len))\n",
    "            print('test set :', np.shape(testX[:,:,::5]) ,np.shape(testY))"
   ]
  },
  {
   "cell_type": "code",
   "execution_count": null,
   "metadata": {},
   "outputs": [],
   "source": []
  }
 ],
 "metadata": {
  "kernelspec": {
   "display_name": "Python 3",
   "language": "python",
   "name": "python3"
  },
  "language_info": {
   "codemirror_mode": {
    "name": "ipython",
    "version": 3
   },
   "file_extension": ".py",
   "mimetype": "text/x-python",
   "name": "python",
   "nbconvert_exporter": "python",
   "pygments_lexer": "ipython3",
   "version": "3.7.4"
  }
 },
 "nbformat": 4,
 "nbformat_minor": 2
}
