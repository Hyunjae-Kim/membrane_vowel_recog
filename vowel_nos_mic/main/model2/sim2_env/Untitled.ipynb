{
 "cells": [
  {
   "cell_type": "code",
   "execution_count": 1,
   "metadata": {},
   "outputs": [],
   "source": [
    "import numpy as np\n",
    "import matplotlib.pyplot as plt"
   ]
  },
  {
   "cell_type": "code",
   "execution_count": 11,
   "metadata": {},
   "outputs": [
    {
     "name": "stdout",
     "output_type": "stream",
     "text": [
      "(5000, 19, 200) (5000, 19, 200)\n",
      "(1500, 19, 200) (1500, 19, 200)\n"
     ]
    }
   ],
   "source": [
    "data_num = 2\n",
    "SNR = 0\n",
    "time_len = 20\n",
    "num_band = 4\n",
    "\n",
    "trainX = np.load('../../../npy_data/set_data%d/%ddb/%ddb_mic_%.1fms_trainX.npy'\\\n",
    "                     %(data_num, SNR, SNR, time_len))\n",
    "trainY = np.load('../../../npy_data/set_data%d/%ddb/%ddb_mic_%.1fms_trainY.npy'\\\n",
    "                 %(data_num, SNR, SNR, time_len))\n",
    "testX = np.load('../../../npy_data/set_data%d/%ddb/%ddb_mic_%.1fms_testX.npy'\\\n",
    "                %(data_num, SNR, SNR, time_len))\n",
    "testY = np.load('../../../npy_data/set_data%d/%ddb/%ddb_mic_%.1fms_testY.npy'\\\n",
    "                %(data_num, SNR, SNR, time_len))\n",
    "\n",
    "trainX2 = np.load('../../../npy_data/set_data%d/%ddb/%ddb_mic_env_%.1fms_trainX.npy'\\\n",
    "                 %(data_num, SNR, SNR, time_len))\n",
    "testX2 = np.load('../../../npy_data/set_data%d/%ddb/%ddb_mic_env_%.1fms_testX.npy'\\\n",
    "                %(data_num, SNR, SNR, time_len))\n",
    "\n",
    "trainX3 = trainX.copy()\n",
    "testX3 = testX.copy()\n",
    "trainX3[:, :num_band] = trainX2[:, :num_band].copy()\n",
    "testX3[:, :num_band] = testX2[:, :num_band].copy()\n",
    "\n",
    "print(np.shape(trainX3), np.shape(trainX2))\n",
    "print(np.shape(testX3), np.shape(testX2))"
   ]
  },
  {
   "cell_type": "code",
   "execution_count": null,
   "metadata": {},
   "outputs": [],
   "source": []
  }
 ],
 "metadata": {
  "kernelspec": {
   "display_name": "Python 3",
   "language": "python",
   "name": "python3"
  },
  "language_info": {
   "codemirror_mode": {
    "name": "ipython",
    "version": 3
   },
   "file_extension": ".py",
   "mimetype": "text/x-python",
   "name": "python",
   "nbconvert_exporter": "python",
   "pygments_lexer": "ipython3",
   "version": "3.7.4"
  }
 },
 "nbformat": 4,
 "nbformat_minor": 2
}
