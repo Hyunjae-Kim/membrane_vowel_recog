{
 "cells": [
  {
   "cell_type": "code",
   "execution_count": 1,
   "metadata": {},
   "outputs": [],
   "source": [
    "import numpy as np\n",
    "import matplotlib.pyplot as plt"
   ]
  },
  {
   "cell_type": "code",
   "execution_count": 2,
   "metadata": {},
   "outputs": [
    {
     "name": "stdout",
     "output_type": "stream",
     "text": [
      "[30 19 53 40 28 10 34  1  6  7 14 51 52 46 17 37  5 65 12 33 64 21 50 39\n",
      "  2 59 38 55 15  8 31 42 49 26 35 61  3 58 11 56 20 45 47 18 27 48 62 63\n",
      " 57 41  9 32 24 25 22 43  4 36 23 54 29 60 13 44 16]\n"
     ]
    }
   ],
   "source": [
    "data_type = 'mem'\n",
    "time_len = 0.5    ##ms\n",
    "point_len = int(time_len*10)\n",
    "\n",
    "np.random.seed(37)\n",
    "\n",
    "people_arr = np.arange(65)+1\n",
    "np.random.shuffle(people_arr)\n",
    "print(people_arr)\n",
    "\n",
    "##[30 19 53 40 28 10 34  1  6  7 14 51 52 46 17 37  5 65 12 33 64 21 50 39\n",
    "##  2 59 38 55 15  8 31 42 49 26 35 61  3 58 11 56 20 45 47 18 27 48 62 63\n",
    "## 57 41  9 32 24 25 22 43  4 36 23 54 29 60 13 44 16]\n",
    "\n",
    "label_set = [[1,0,0,0,0],[0,1,0,0,0],[0,0,1,0,0],[0,0,0,1,0],[0,0,0,0,1]]\n",
    "\n",
    "check_list = [[297, 315, 295, 308, 320],\n",
    "              [290,277,290,278,310],\n",
    "              [275,294,280,303,291],\n",
    "              [271,295,290,279,323],\n",
    "              [305,280,325,270,278],\n",
    "              [281,290,335,285,297],\n",
    "              [557,293,280,277,330],\n",
    "              [296,313,295,285,309],\n",
    "              [296,266,290,292,310],\n",
    "              [306,287,320,288,291],\n",
    "              [295,310,310,320,315],\n",
    "              [275,285,295,285,290],\n",
    "              [278,291,295,300,320],\n",
    "              [317,278,295,289,307],\n",
    "              [270,285,287,307,289]]\n"
   ]
  },
  {
   "cell_type": "code",
   "execution_count": 5,
   "metadata": {},
   "outputs": [
    {
     "name": "stdout",
     "output_type": "stream",
     "text": [
      "mem data shape  -  0.5 ms\n",
      "test set : (75, 10, 5) (75, 5)\n"
     ]
    }
   ],
   "source": [
    "if data_type=='mem':\n",
    "    point_len = int(time_len*10)\n",
    "                \n",
    "    for k1 in range(15):\n",
    "        for k2 in range(5):\n",
    "            c_i = check_list[k1][k2]\n",
    "            file_name = 'data/mem_20181226_original/aei%d_%d.dat'%(people_arr[50+k1], k2+1)\n",
    "            f = open(file_name)\n",
    "            \n",
    "            data = []\n",
    "            for k3 in f.readlines():\n",
    "                dline = k3.rstrip().split(\",\")\n",
    "                data.append([float(d) for d in dline])\n",
    "            \n",
    "#             x_line = np.ones(110)*c_i\n",
    "#             red_line = (np.arange(110)-10)*0.1\n",
    "#             for k in range(10):\n",
    "#                 plt.plot(np.array(data[k])+k)\n",
    "#                 plt.plot(x_line, red_line, 'r')\n",
    "#                 plt.xlim(c_i, c_i+200)\n",
    "#                 plt.ylim(-0.5, 10)\n",
    "#             plt.show()\n",
    "\n",
    "            data = np.array(data)[:,c_i+30:c_i+35].reshape(10, -1, point_len).transpose(1,0,2)\n",
    "            dlabel = np.array([label_set[k2]]*len(data))\n",
    "            \n",
    "            if k1==0 and k2==0:\n",
    "                testX = data\n",
    "                testY = dlabel\n",
    "            else:\n",
    "                testX = np.concatenate((testX, data))\n",
    "                testY = np.concatenate((testY, dlabel))\n",
    "    \n",
    "    np.save('npy_data/mem_trans/mem_%.1fms_testX.npy'%time_len, testX)\n",
    "    np.save('npy_data/mem_trans/mem_%.1fms_testY.npy'%time_len, testY)\n",
    "    \n",
    "    print('mem data shape  -  %.1f ms'%time_len)\n",
    "    print('test set :', np.shape(testX) ,np.shape(testY))"
   ]
  },
  {
   "cell_type": "code",
   "execution_count": null,
   "metadata": {},
   "outputs": [],
   "source": []
  }
 ],
 "metadata": {
  "kernelspec": {
   "display_name": "Python 3",
   "language": "python",
   "name": "python3"
  },
  "language_info": {
   "codemirror_mode": {
    "name": "ipython",
    "version": 3
   },
   "file_extension": ".py",
   "mimetype": "text/x-python",
   "name": "python",
   "nbconvert_exporter": "python",
   "pygments_lexer": "ipython3",
   "version": "3.7.4"
  }
 },
 "nbformat": 4,
 "nbformat_minor": 2
}
