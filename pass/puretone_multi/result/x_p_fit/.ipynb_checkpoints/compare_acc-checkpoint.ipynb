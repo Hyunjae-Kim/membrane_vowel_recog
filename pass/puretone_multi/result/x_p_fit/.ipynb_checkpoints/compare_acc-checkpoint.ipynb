{
 "cells": [
  {
   "cell_type": "code",
   "execution_count": 2,
   "metadata": {},
   "outputs": [],
   "source": [
    "import numpy as np\n",
    "import matplotlib.pyplot as plt"
   ]
  },
  {
   "cell_type": "code",
   "execution_count": 45,
   "metadata": {},
   "outputs": [
    {
     "name": "stderr",
     "output_type": "stream",
     "text": [
      "No handles with labels found to put in legend.\n"
     ]
    },
    {
     "name": "stdout",
     "output_type": "stream",
     "text": [
      "[0.32451874999999997, 0.25353125, 0.10341250000000002, 0.23590624999999998, 0.32857499999999995, 0.67769375]\n"
     ]
    },
    {
     "data": {
      "image/png": "[encoded data removed]",
      "text/plain": [
       "<Figure size 432x288 with 1 Axes>"
      ]
     },
     "metadata": {
      "needs_background": "light"
     },
     "output_type": "display_data"
    }
   ],
   "source": [
    "ch_num = [1, 3, 5, 9, 19]\n",
    "\n",
    "whole_list = [ ]\n",
    "for k1 in range(5):\n",
    "    file_name = '%dch_loss.txt'%ch_num[k1]\n",
    "    te_acc = np.loadtxt(file_name)\n",
    "    whole_list.append(1-np.max(te_acc))\n",
    "\n",
    "file_name = 'result/model2/pure_data1/raw/0.5_acc_te.txt'\n",
    "te_acc = np.loadtxt(file_name)\n",
    "whole_list.append(1-np.max(te_acc))\n",
    "print(whole_list)\n",
    "####plot\n",
    "x = np.arange(len(ch_num)+1)*2+1\n",
    "width = 1\n",
    "\n",
    "fig, ax = plt.subplots()\n",
    "rects1 = ax.bar(x, whole_list, width)\n",
    "# rects2 = ax.bar(x, whole_list[1], width, label='channel 3')\n",
    "# rects3 = ax.bar(x, whole_list[2], width, label='channel 5')\n",
    "# rects4 = ax.bar(x, whole_list[3], width, label='channel 7')\n",
    "# rects5 = ax.bar(x, whole_list[4], width, label='channel 9')\n",
    "\n",
    "ax.set_ylabel('Error rate')\n",
    "ax.set_title('Accuracy comparison')\n",
    "ax.set_xticks(x)\n",
    "ax.set_xticklabels(['channel 1', 'channel 3', 'channel 5', 'channel 7', 'channel 9', 'raw'])\n",
    "ax.legend()\n",
    "\n",
    "fig.tight_layout()\n",
    "plt.savefig('img/1ch_pick_compare_model%d.png'%model_num)\n",
    "plt.show()"
   ]
  },
  {
   "cell_type": "code",
   "execution_count": null,
   "metadata": {},
   "outputs": [],
   "source": []
  }
 ],
 "metadata": {
  "kernelspec": {
   "display_name": "Python 3",
   "language": "python",
   "name": "python3"
  },
  "language_info": {
   "codemirror_mode": {
    "name": "ipython",
    "version": 3
   },
   "file_extension": ".py",
   "mimetype": "text/x-python",
   "name": "python",
   "nbconvert_exporter": "python",
   "pygments_lexer": "ipython3",
   "version": "3.7.4"
  }
 },
 "nbformat": 4,
 "nbformat_minor": 2
}
