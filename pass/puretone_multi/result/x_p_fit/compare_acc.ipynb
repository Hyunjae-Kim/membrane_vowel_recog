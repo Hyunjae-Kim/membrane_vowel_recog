{
 "cells": [
  {
   "cell_type": "code",
   "execution_count": 2,
   "metadata": {},
   "outputs": [],
   "source": [
    "import numpy as np\n",
    "import matplotlib.pyplot as plt"
   ]
  },
  {
   "cell_type": "code",
   "execution_count": 15,
   "metadata": {},
   "outputs": [
    {
     "name": "stderr",
     "output_type": "stream",
     "text": [
      "No handles with labels found to put in legend.\n"
     ]
    },
    {
     "name": "stdout",
     "output_type": "stream",
     "text": [
      "[3.24181055475492e-05, 1.3974394278193358e-05, 1.005738704407122e-05, 8.545709533791523e-06, 8.30206863611238e-06]\n"
     ]
    },
    {
     "data": {
      "image/png": "[encoded data removed]",
      "text/plain": [
       "<Figure size 432x288 with 1 Axes>"
      ]
     },
     "metadata": {
      "needs_background": "light"
     },
     "output_type": "display_data"
    }
   ],
   "source": [
    "ch_num = [1, 3, 5, 9, 19]\n",
    "\n",
    "whole_list = [ ]\n",
    "for k1 in range(5):\n",
    "    file_name = '%dch_loss.txt'%ch_num[k1]\n",
    "    te_acc = np.loadtxt(file_name)\n",
    "    whole_list.append(np.min(te_acc))\n",
    "    \n",
    "print(whole_list)\n",
    "####plot\n",
    "x = np.arange(len(ch_num))\n",
    "width = 0.5\n",
    "\n",
    "fig, ax = plt.subplots()\n",
    "rects1 = ax.bar(x, whole_list, width)\n",
    "# rects2 = ax.bar(x, whole_list[1], width, label='channel 3')\n",
    "# rects3 = ax.bar(x, whole_list[2], width, label='channel 5')\n",
    "# rects4 = ax.bar(x, whole_list[3], width, label='channel 7')\n",
    "# rects5 = ax.bar(x, whole_list[4], width, label='channel 9')\n",
    "\n",
    "# ax.set_ylabel('Error rate')\n",
    "# ax.set_title('Accuracy comparison')\n",
    "ax.set_xticks(x)\n",
    "ax.set_xticklabels(['channel 1', 'channel 3', 'channel 5', 'channel 9', 'channel 19'])\n",
    "ax.legend()\n",
    "\n",
    "fig.tight_layout()\n",
    "plt.savefig('x_p_fit_loss_compare.png')\n",
    "plt.show()"
   ]
  },
  {
   "cell_type": "code",
   "execution_count": null,
   "metadata": {},
   "outputs": [],
   "source": []
  }
 ],
 "metadata": {
  "kernelspec": {
   "display_name": "Python 3",
   "language": "python",
   "name": "python3"
  },
  "language_info": {
   "codemirror_mode": {
    "name": "ipython",
    "version": 3
   },
   "file_extension": ".py",
   "mimetype": "text/x-python",
   "name": "python",
   "nbconvert_exporter": "python",
   "pygments_lexer": "ipython3",
   "version": "3.7.4"
  }
 },
 "nbformat": 4,
 "nbformat_minor": 2
}
