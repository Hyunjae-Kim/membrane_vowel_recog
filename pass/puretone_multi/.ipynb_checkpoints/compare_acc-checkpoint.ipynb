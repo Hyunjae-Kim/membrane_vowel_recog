{
 "cells": [
  {
   "cell_type": "code",
   "execution_count": 2,
   "metadata": {},
   "outputs": [],
   "source": [
    "import numpy as np\n",
    "import matplotlib.pyplot as plt"
   ]
  },
  {
   "cell_type": "code",
   "execution_count": 44,
   "metadata": {
    "scrolled": false
   },
   "outputs": [
    {
     "name": "stdout",
     "output_type": "stream",
     "text": [
      "[[0.57325, 0.09199999999999997, 0.0, 0.0, 0.0], [0.5705, 0.08725000000000005, 0.0, 0.0, 0.0], [0.5780000000000001, 0.10999999999999999, 0.0, 0.0, 0.0], [0.5865, 0.08550000000000002, 0.0, 0.0, 0.0], [0.5954999999999999, 0.36475, 0.0004999999999999449, 0.00649999999999995, 0.0], [0.8055, 0.58525, 0.0, 0.0, 0.0]]\n"
     ]
    },
    {
     "data": {
      "image/png": "[encoded data removed]",
      "text/plain": [
       "<Figure size 432x288 with 1 Axes>"
      ]
     },
     "metadata": {
      "needs_background": "light"
     },
     "output_type": "display_data"
    }
   ],
   "source": [
    "time_list = ['0.5', '1.0', '5.0', '10.0', '20.0']\n",
    "ch_num = [19, 9, 5, 3]\n",
    "model_num = 2\n",
    "\n",
    "whole_list = [ ]\n",
    "for k1 in range(4):\n",
    "    max_list = [ ]\n",
    "    for k2 in range(len(time_list)):\n",
    "        file_name = 'result/model%d/pure_data1/%dch/%s_acc_te.txt'%(model_num, ch_num[k1], time_list[k2])\n",
    "        te_acc = np.loadtxt(file_name)\n",
    "        max_list.append(1-np.max(te_acc))\n",
    "    whole_list.append(max_list)\n",
    "\n",
    "max_list=[]\n",
    "for k2 in range(len(time_list)):\n",
    "    file_name = 'result/model%d/pure_data2/raw/%s_acc_te.txt'%(model_num, time_list[k2])\n",
    "    te_acc = np.loadtxt(file_name)\n",
    "    max_list.append(1-np.max(te_acc))\n",
    "whole_list.append(max_list)\n",
    "\n",
    "max_list=[]\n",
    "for k2 in range(len(time_list)):\n",
    "    file_name = 'result/model%d/pure_data1/raw/%s_acc_te.txt'%(model_num, time_list[k2])\n",
    "    te_acc = np.loadtxt(file_name)\n",
    "    max_list.append(1-np.max(te_acc))\n",
    "whole_list.append(max_list)\n",
    "\n",
    "\n",
    "\n",
    "print(whole_list)\n",
    "####plot\n",
    "x = np.arange(len(time_list))\n",
    "width = 0.12\n",
    "\n",
    "fig, ax = plt.subplots()\n",
    "rects0 = ax.bar(x - 3*width, whole_list[5], width, label='raw')\n",
    "rects1 = ax.bar(x - 2*width, whole_list[4], width, label='w_raw')\n",
    "rects2 = ax.bar(x - width, whole_list[3], width, label='3ch')\n",
    "rects3 = ax.bar(x, whole_list[2], width, label='5ch')\n",
    "rects4 = ax.bar(x + width, whole_list[1], width, label='9ch')\n",
    "rects5 = ax.bar(x + 2*width, whole_list[0], width, label='19ch')\n",
    "\n",
    "ax.set_ylabel('Error rate')\n",
    "ax.set_title('Accuracy comparison')\n",
    "ax.set_xticks(x)\n",
    "ax.set_xticklabels(time_list)\n",
    "ax.set_xlabel('time (ms)')\n",
    "ax.legend()\n",
    "\n",
    "fig.tight_layout()\n",
    "plt.savefig('img/data1_compare_wraw_model%d.png'%model_num)\n",
    "plt.show()"
   ]
  },
  {
   "cell_type": "code",
   "execution_count": 4,
   "metadata": {},
   "outputs": [
    {
     "name": "stdout",
     "output_type": "stream",
     "text": [
      "[[0.55425, 0.02849999999999997], [0.5675, 0.030750000000000055], [0.57275, 0.043749999999999956], [0.597, 0.05074999999999996], [0.597, 0.05974999999999997]]\n"
     ]
    },
    {
     "data": {
      "image/png": "[encoded data removed]",
      "text/plain": [
       "<Figure size 432x288 with 1 Axes>"
      ]
     },
     "metadata": {
      "needs_background": "light"
     },
     "output_type": "display_data"
    }
   ],
   "source": [
    "time_list = ['0.5', '1.0', '5.0', '10.0', '20.0']\n",
    "ch_num = [9,7,5,3,1]\n",
    "model_num = 2\n",
    "\n",
    "whole_list = [ ]\n",
    "for k1 in range(len(ch_num)):\n",
    "    max_list = [ ]\n",
    "    for k2 in range(len(time_list)):\n",
    "        file_name = 'result/model%d/pure_data3/1ch_pick/ch%d/%s_acc_te.txt'\\\n",
    "        %(model_num, ch_num[k1], time_list[k2])\n",
    "        te_acc = np.loadtxt(file_name)\n",
    "        max_list.append(1-np.max(te_acc))\n",
    "    whole_list.append(max_list)\n",
    "print(whole_list)\n",
    "\n",
    "# max_list=[]\n",
    "# for k2 in range(len(time_list)):\n",
    "#     file_name = 'result/model%d/pure_data2/raw/%s_acc_te.txt'%(model_num, time_list[k2])\n",
    "#     te_acc = np.loadtxt(file_name)\n",
    "#     max_list.append(1-np.max(te_acc))\n",
    "# whole_list.append(max_list)\n",
    "\n",
    "# max_list=[]\n",
    "# for k2 in range(len(time_list)):\n",
    "#     file_name = 'result/model%d/pure_data1/raw/%s_acc_te.txt'%(model_num, time_list[k2])\n",
    "#     te_acc = np.loadtxt(file_name)\n",
    "#     max_list.append(1-np.max(te_acc))\n",
    "# whole_list.append(max_list)\n",
    "\n",
    "####plot\n",
    "x = np.arange(len(time_list))\n",
    "width = 0.12\n",
    "\n",
    "fig, ax = plt.subplots()\n",
    "# rects00 = ax.bar(x - 3*width, whole_list[6], width, label='raw')\n",
    "# rects0 = ax.bar(x - 2*width, whole_list[5], width, label='w_raw')\n",
    "rects1 = ax.bar(x - 1*width, whole_list[4], width, label='ch9')\n",
    "rects2 = ax.bar(x + 0*width, whole_list[3], width, label='ch7')\n",
    "rects3 = ax.bar(x + 1*width, whole_list[2], width, label='ch5')\n",
    "rects4 = ax.bar(x + 2*width, whole_list[1], width, label='ch3')\n",
    "rects5 = ax.bar(x + 3*width, whole_list[0], width, label='ch1')\n",
    "\n",
    "ax.set_ylabel('Error rate')\n",
    "ax.set_title('Accuracy comparison')\n",
    "ax.set_xticks(x)\n",
    "ax.set_xticklabels(time_list)\n",
    "ax.set_xlabel('time (ms)')\n",
    "ax.legend()\n",
    "\n",
    "fig.tight_layout()\n",
    "# plt.savefig('img/1chpick_wraw_model%d.png'%model_num)\n",
    "plt.show()"
   ]
  },
  {
   "cell_type": "code",
   "execution_count": null,
   "metadata": {},
   "outputs": [],
   "source": []
  }
 ],
 "metadata": {
  "kernelspec": {
   "display_name": "Python 3",
   "language": "python",
   "name": "python3"
  },
  "language_info": {
   "codemirror_mode": {
    "name": "ipython",
    "version": 3
   },
   "file_extension": ".py",
   "mimetype": "text/x-python",
   "name": "python",
   "nbconvert_exporter": "python",
   "pygments_lexer": "ipython3",
   "version": "3.7.4"
  }
 },
 "nbformat": 4,
 "nbformat_minor": 2
}
