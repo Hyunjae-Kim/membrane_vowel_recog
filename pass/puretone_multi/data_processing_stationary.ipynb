{
 "cells": [
  {
   "cell_type": "code",
   "execution_count": 1,
   "metadata": {},
   "outputs": [],
   "source": [
    "import numpy as np\n",
    "import matplotlib.pyplot as plt"
   ]
  },
  {
   "cell_type": "code",
   "execution_count": 2,
   "metadata": {},
   "outputs": [],
   "source": [
    "sr = 10000\n",
    "skip_sample = int(50000/sr)\n",
    "\n",
    "data_num = 4\n",
    "data_type = 'raw'\n",
    "\n",
    "ch_list = [3,5,9,19]\n",
    "time_list = [10, 5, 1, 0.5]"
   ]
  },
  {
   "cell_type": "code",
   "execution_count": 3,
   "metadata": {},
   "outputs": [],
   "source": [
    "if data_type=='ch':\n",
    "    np.random.seed(37)\n",
    "    label_set = np.array([[0]*20]*20)\n",
    "    for k in range(20):\n",
    "        label_set[k,k]=1\n",
    "\n",
    "    for ccc in ch_list:\n",
    "        for ttt in time_list:\n",
    "            ch_num = ccc\n",
    "            time_len = ttt    ##ms\n",
    "            point_len = int(1000/(20/time_len))\n",
    "            print('@@@@@@@',time_len, point_len)\n",
    "\n",
    "            count = -1\n",
    "            for freq in range(650,750,5):\n",
    "                count += 1\n",
    "                data = np.load('data/pure_data1/%dch/%d.npy'%(ch_num, freq))\n",
    "                train = data[:800]\n",
    "                test = data[800:]\n",
    "                train = train[:, :, 500:500+point_len]\n",
    "                test = test[:, :, 500:500+point_len]\n",
    "                plt.plot(train[0][0])\n",
    "                plt.show()\n",
    "                lab_train = np.array([label_set[count]]*len(train))\n",
    "                lab_test = np.array([label_set[count]]*len(test))\n",
    "                if count==0:\n",
    "                    trainX = train\n",
    "                    trainY = lab_train\n",
    "                    testX = test\n",
    "                    testY = lab_test\n",
    "                else:\n",
    "                    trainX = np.concatenate((trainX, train))\n",
    "                    trainY = np.concatenate((trainY, lab_train))\n",
    "                    testX = np.concatenate((testX, test))\n",
    "                    testY = np.concatenate((testY, lab_test))\n",
    "\n",
    "            print(np.shape(trainX), np.shape(testX))\n",
    "            print(np.shape(trainY), np.shape(testY))\n",
    "            np.save('npy_data/pure_data%d/%dch/%dch_%.1fms_trainX.npy'%(data_num, ch_num, ch_num, time_len), trainX[:,:,::5])\n",
    "            np.save('npy_data/pure_data%d/%dch/%dch_%.1fms_trainY.npy'%(data_num, ch_num, ch_num, time_len), trainY)\n",
    "            np.save('npy_data/pure_data%d/%dch/%dch_%.1fms_testX.npy'%(data_num, ch_num, ch_num, time_len), testX[:,:,::5])\n",
    "            np.save('npy_data/pure_data%d/%dch/%dch_%.1fms_testY.npy'%(data_num, ch_num, ch_num, time_len), testY)\n",
    "\n",
    "            print('%dch data shape  -  %.1f ms'%(ch_num, time_len))\n",
    "            print('train set :', np.shape(trainX[:,:,::5]) , np.shape(trainY))\n",
    "            print('test set :', np.shape(testX[:,:,::5]) ,np.shape(testY))"
   ]
  },
  {
   "cell_type": "code",
   "execution_count": 6,
   "metadata": {},
   "outputs": [
    {
     "name": "stdout",
     "output_type": "stream",
     "text": [
      "@@@@@@@ 10 500\n",
      "raw data shape  -  10.0 ms\n",
      "train set : (16000, 500) (16000, 20)\n",
      "test set : (4000, 500) (4000, 20)\n",
      "@@@@@@@ 5 250\n",
      "raw data shape  -  5.0 ms\n",
      "train set : (16000, 250) (16000, 20)\n",
      "test set : (4000, 250) (4000, 20)\n",
      "@@@@@@@ 1 50\n",
      "raw data shape  -  1.0 ms\n",
      "train set : (16000, 50) (16000, 20)\n",
      "test set : (4000, 50) (4000, 20)\n",
      "@@@@@@@ 0.5 25\n",
      "raw data shape  -  0.5 ms\n",
      "train set : (16000, 25) (16000, 20)\n",
      "test set : (4000, 25) (4000, 20)\n"
     ]
    }
   ],
   "source": [
    "if data_type=='raw':\n",
    "    raw_name = 'w_raw'\n",
    "    np.random.seed(37)\n",
    "    label_set = np.array([[0]*20]*20)\n",
    "    for k in range(20):\n",
    "        label_set[k,k]=1\n",
    "    \n",
    "    for ttt in time_list:\n",
    "        time_len = ttt\n",
    "        point_len = int(1000/(20/time_len))\n",
    "        print('@@@@@@@',time_len, point_len)\n",
    "\n",
    "        count = -1\n",
    "        for freq in range(650,750,5):\n",
    "            count += 1\n",
    "            data = np.load('data/pure_data4/%s/%d.npy'%(raw_name, freq))\n",
    "            train = data[:800]\n",
    "            test = data[800:]\n",
    "            train = train[:, 500:500+point_len]\n",
    "            test = test[:, 500:500+point_len]\n",
    "            lab_train = np.array([label_set[count]]*len(train))\n",
    "            lab_test = np.array([label_set[count]]*len(test))\n",
    "\n",
    "            if count==0:\n",
    "                trainX = train\n",
    "                trainY = lab_train\n",
    "                testX = test\n",
    "                testY = lab_test\n",
    "            else:\n",
    "                trainX = np.concatenate((trainX, train))\n",
    "                trainY = np.concatenate((trainY, lab_train))\n",
    "                testX = np.concatenate((testX, test))\n",
    "                testY = np.concatenate((testY, lab_test))\n",
    "\n",
    "        np.save('npy_data/pure_data%d/%s/raw_%.1fms_trainX.npy'%(data_num, raw_name, time_len), trainX)\n",
    "        np.save('npy_data/pure_data%d/%s/raw_%.1fms_trainY.npy'%(data_num, raw_name, time_len), trainY)\n",
    "        np.save('npy_data/pure_data%d/%s/raw_%.1fms_testX.npy'%(data_num, raw_name, time_len), testX)\n",
    "        np.save('npy_data/pure_data%d/%s/raw_%.1fms_testY.npy'%(data_num, raw_name, time_len), testY)\n",
    "\n",
    "        print('raw data shape  -  %.1f ms'%(time_len))\n",
    "        print('train set :', np.shape(trainX) , np.shape(trainY))\n",
    "        print('test set :', np.shape(testX) ,np.shape(testY))"
   ]
  }
 ],
 "metadata": {
  "kernelspec": {
   "display_name": "Python 3",
   "language": "python",
   "name": "python3"
  },
  "language_info": {
   "codemirror_mode": {
    "name": "ipython",
    "version": 3
   },
   "file_extension": ".py",
   "mimetype": "text/x-python",
   "name": "python",
   "nbconvert_exporter": "python",
   "pygments_lexer": "ipython3",
   "version": "3.7.4"
  }
 },
 "nbformat": 4,
 "nbformat_minor": 2
}
