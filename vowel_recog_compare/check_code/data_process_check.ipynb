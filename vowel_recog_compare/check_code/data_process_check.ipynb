{
 "cells": [
  {
   "cell_type": "code",
   "execution_count": 35,
   "metadata": {},
   "outputs": [],
   "source": [
    "import numpy as np\n",
    "from scipy.io import wavfile\n",
    "import matplotlib.pyplot as plt\n",
    "from python_speech_features import mfcc"
   ]
  },
  {
   "cell_type": "code",
   "execution_count": 40,
   "metadata": {},
   "outputs": [],
   "source": [
    "data_type = 'fft'\n",
    "time_len = 0.5    ##ms"
   ]
  },
  {
   "cell_type": "code",
   "execution_count": 41,
   "metadata": {},
   "outputs": [
    {
     "name": "stdout",
     "output_type": "stream",
     "text": [
      "[30 19 53 40 28 10 34  1  6  7 14 51 52 46 17 37  5 65 12 33 64 21 50 39\n",
      "  2 59 38 55 15  8 31 42 49 26 35 61  3 58 11 56 20 45 47 18 27 48 62 63\n",
      " 57 41  9 32 24 25 22 43  4 36 23 54 29 60 13 44 16]\n"
     ]
    }
   ],
   "source": [
    "np.random.seed(37)\n",
    "\n",
    "people_arr = np.arange(65)+1\n",
    "np.random.shuffle(people_arr)\n",
    "print(people_arr)\n",
    "\n",
    "##[30 19 53 40 28 10 34  1  6  7 14 51 52 46 17 37  5 65 12 33 64 21 50 39\n",
    "##  2 59 38 55 15  8 31 42 49 26 35 61  3 58 11 56 20 45 47 18 27 48 62 63\n",
    "## 57 41  9 32 24 25 22 43  4 36 23 54 29 60 13 44 16]\n",
    "\n",
    "label_set = [[1,0,0,0,0],[0,1,0,0,0],[0,0,1,0,0],[0,0,0,1,0],[0,0,0,0,1]]"
   ]
  },
  {
   "cell_type": "code",
   "execution_count": 29,
   "metadata": {},
   "outputs": [],
   "source": [
    "if data_type=='raw':\n",
    "    if time_len==0.5:\n",
    "        point_len = 25\n",
    "    else:\n",
    "        point_len = int(45000*time_len/1000)\n",
    "        \n",
    "    for k1 in range(50):\n",
    "        for k2 in range(5):\n",
    "            file_name = 'data/wav/OS1_%d_%d.wav'%(people_arr[k1], k2+1)\n",
    "            sr, wav = wavfile.read(file_name)\n",
    "            wav = (2./65535.) * (wav.astype(np.float32) - 32767) + 1.\n",
    "            wav = wav[:18000].reshape(-1, point_len)\n",
    "            dlabel = np.array([label_set[k2]]*len(wav))\n",
    "            \n",
    "            if k1==0 and k2==0:\n",
    "                trainX = wav\n",
    "                trainY = dlabel\n",
    "            else:\n",
    "                trainX = np.concatenate((trainX, wav))\n",
    "                trainY = np.concatenate((trainY, dlabel))\n",
    "                \n",
    "    for k1 in range(15):\n",
    "        for k2 in range(5):\n",
    "            file_name = 'data/wav/OS1_%d_%d.wav'%(people_arr[50+k1], k2+1)\n",
    "            sr, wav = wavfile.read(file_name)\n",
    "            wav = (2./65535.) * (wav.astype(np.float32) - 32767) + 1.\n",
    "            wav = wav[:18000].reshape(-1, point_len)\n",
    "            dlabel = [label_set[k2]]*len(wav)\n",
    "            \n",
    "            if k1==0 and k2==0:\n",
    "                testX = wav\n",
    "                testY = dlabel\n",
    "            else:\n",
    "                testX = np.concatenate((testX, wav))\n",
    "                testY = np.concatenate((testY, dlabel))\n",
    "    \n",
    "#     np.save('npy_data/raw/raw_%.1fms_trainX.npy'%time_len, trainX)\n",
    "#     np.save('npy_data/raw/raw_%.1fms_trainY.npy'%time_len, trainY)\n",
    "#     np.save('npy_data/raw/raw_%.1fms_testX.npy'%time_len, testX)\n",
    "#     np.save('npy_data/raw/raw_%.1fms_testY.npy'%time_len, testY)\n",
    "    \n",
    "    print('raw data shape  -  %.1f ms'%time_len)\n",
    "    print('train set :', np.shape(trainX) , np.shape(trainY))\n",
    "    print('test set :', np.shape(testX) ,np.shape(testY))"
   ]
  },
  {
   "cell_type": "code",
   "execution_count": 42,
   "metadata": {},
   "outputs": [
    {
     "name": "stdout",
     "output_type": "stream",
     "text": [
      "fft data shape  -  0.5 ms\n",
      "train set : (180000, 13) (180000, 5)\n",
      "test set : (54000, 13) (54000, 5)\n"
     ]
    }
   ],
   "source": [
    "if data_type=='fft':\n",
    "    if time_len==0.5:\n",
    "        point_len = 25\n",
    "    else:\n",
    "        point_len = int(45000*time_len/1000)\n",
    "        \n",
    "    for k1 in range(50):\n",
    "        for k2 in range(5):\n",
    "            file_name = 'data/wav/OS1_%d_%d.wav'%(people_arr[k1], k2+1)\n",
    "            sr, wav = wavfile.read(file_name)\n",
    "            wav = (2./65535.) * (wav.astype(np.float32) - 32767) + 1.\n",
    "            wav = wav[:18000].reshape(-1, point_len)\n",
    "            fft = np.abs(np.fft.rfft(wav)/len(wav[0]))\n",
    "            dlabel = np.array([label_set[k2]]*len(wav))\n",
    "            \n",
    "            if k1==0 and k2==0:\n",
    "                trainX = fft\n",
    "                trainY = dlabel\n",
    "            else:\n",
    "                trainX = np.concatenate((trainX, fft))\n",
    "                trainY = np.concatenate((trainY, dlabel))\n",
    "                \n",
    "    for k1 in range(15):\n",
    "        for k2 in range(5):\n",
    "            file_name = 'data/wav/OS1_%d_%d.wav'%(people_arr[50+k1], k2+1)\n",
    "            sr, wav = wavfile.read(file_name)\n",
    "            wav = (2./65535.) * (wav.astype(np.float32) - 32767) + 1.\n",
    "            wav = wav[:18000].reshape(-1, point_len)\n",
    "            fft = np.abs(np.fft.rfft(wav)/len(wav[0]))\n",
    "            dlabel = [label_set[k2]]*len(wav)\n",
    "            \n",
    "            if k1==0 and k2==0:\n",
    "                testX = fft\n",
    "                testY = dlabel\n",
    "            else:\n",
    "                testX = np.concatenate((testX, fft))\n",
    "                testY = np.concatenate((testY, dlabel))\n",
    "    \n",
    "#     np.save('npy_data/fft/fft_%.1fms_trainX.npy'%time_len, trainX)\n",
    "#     np.save('npy_data/fft/fft_%.1fms_trainY.npy'%time_len, trainY)\n",
    "#     np.save('npy_data/fft/fft_%.1fms_testX.npy'%time_len, testX)\n",
    "#     np.save('npy_data/fft/fft_%.1fms_testY.npy'%time_len, testY)\n",
    "    \n",
    "    print('fft data shape  -  %.1f ms'%time_len)\n",
    "    print('train set :', np.shape(trainX) , np.shape(trainY))\n",
    "    print('test set :', np.shape(testX) ,np.shape(testY))"
   ]
  },
  {
   "cell_type": "code",
   "execution_count": 46,
   "metadata": {},
   "outputs": [
    {
     "data": {
      "image/png": "[encoded data removed]",
      "text/plain": [
       "<Figure size 432x288 with 1 Axes>"
      ]
     },
     "metadata": {
      "needs_background": "light"
     },
     "output_type": "display_data"
    }
   ],
   "source": [
    "div_num = 720\n",
    "col_list = ['r', 'k', 'b', 'y', 'g']\n",
    "vow_list = ['a', 'e', 'i', 'o', 'u']\n",
    "for v in range(5):\n",
    "    dX = np.zeros(13)\n",
    "    for p in range(50):\n",
    "        p_num = 5*div_num*p\n",
    "        dX += np.mean(trainX[p_num + div_num*v : p_num + div_num*(v+1)], 0)\n",
    "    plt.plot(dX[:4]/50, col_list[v], label=vow_list[v])\n",
    "plt.legend()\n",
    "plt.savefig('img/data_analysis/%s_%.1f_check_1-4.png'%(data_type, time_len))\n",
    "plt.show()"
   ]
  },
  {
   "cell_type": "code",
   "execution_count": 12,
   "metadata": {},
   "outputs": [
    {
     "name": "stdout",
     "output_type": "stream",
     "text": [
      "mfcc data shape  -  0.5 ms\n",
      "train set : (180000, 20) (180000, 5)\n",
      "test set : (54000, 20) (54000, 5)\n"
     ]
    }
   ],
   "source": [
    "if data_type=='mfcc':\n",
    "    if time_len==0.5:\n",
    "        point_len = 25\n",
    "    else:\n",
    "        point_len = int(45000*time_len/1000)\n",
    "        \n",
    "    for k1 in range(50):\n",
    "        for k2 in range(5):\n",
    "            file_name = 'data/wav/OS1_%d_%d.wav'%(people_arr[k1], k2+1)\n",
    "            sr, wav = wavfile.read(file_name)\n",
    "            wav = (2./65535.) * (wav.astype(np.float32) - 32767) + 1.\n",
    "            wav = wav[:18000].reshape(-1, point_len)\n",
    "            for k3 in range(len(wav)):\n",
    "                if k3==0:\n",
    "                    mfcc_set = mfcc(wav[k3], samplerate=sr, winlen=len(wav[k3])/sr, winstep=len(wav[k3])/sr, numcep=20, nfilt=40,\n",
    "                        nfft=len(wav[k3]), lowfreq=20, preemph=0.97, ceplifter=22)\n",
    "                else:\n",
    "                    dmfcc = mfcc(wav[k3], samplerate=sr, winlen=len(wav[k3])/sr, winstep=len(wav[k3])/sr, numcep=20, nfilt=40,\n",
    "                        nfft=len(wav[k3]), lowfreq=20, preemph=0.97, ceplifter=22)\n",
    "                    mfcc_set = np.concatenate((mfcc_set, dmfcc))\n",
    "            dlabel = np.array([label_set[k2]]*len(wav))\n",
    "            \n",
    "            if k1==0 and k2==0:\n",
    "                trainX = mfcc_set\n",
    "                trainY = dlabel\n",
    "            else:\n",
    "                trainX = np.concatenate((trainX, mfcc_set))\n",
    "                trainY = np.concatenate((trainY, dlabel))\n",
    "    \n",
    "    for k1 in range(15):\n",
    "        for k2 in range(5):\n",
    "            file_name = 'data/wav/OS1_%d_%d.wav'%(people_arr[k1+50], k2+1)\n",
    "            sr, wav = wavfile.read(file_name)\n",
    "            wav = (2./65535.) * (wav.astype(np.float32) - 32767) + 1.\n",
    "            wav = wav[:18000].reshape(-1, point_len)\n",
    "            for k3 in range(len(wav)):\n",
    "                if k3==0:\n",
    "                    mfcc_set = mfcc(wav[k3], samplerate=sr, winlen=len(wav[k3])/sr, winstep=len(wav[k3])/sr, numcep=20, nfilt=40,\n",
    "                        nfft=len(wav[k3]), lowfreq=20, preemph=0.97, ceplifter=22)\n",
    "                else:\n",
    "                    dmfcc = mfcc(wav[k3], samplerate=sr, winlen=len(wav[k3])/sr, winstep=len(wav[k3])/sr, numcep=20, nfilt=40,\n",
    "                        nfft=len(wav[k3]), lowfreq=20, preemph=0.97, ceplifter=22)\n",
    "                    mfcc_set = np.concatenate((mfcc_set, dmfcc))\n",
    "            dlabel = np.array([label_set[k2]]*len(wav))\n",
    "            \n",
    "            if k1==0 and k2==0:\n",
    "                testX = mfcc_set\n",
    "                testY = dlabel\n",
    "            else:\n",
    "                testX = np.concatenate((testX, mfcc_set))\n",
    "                testY = np.concatenate((testY, dlabel))\n",
    "                \n",
    "#     np.save('npy_data/mfcc/mfcc_%.1fms_trainX.npy'%time_len, trainX)\n",
    "#     np.save('npy_data/mfcc/mfcc_%.1fms_trainY.npy'%time_len, trainY)\n",
    "#     np.save('npy_data/mfcc/mfcc_%.1fms_testX.npy'%time_len, testX)\n",
    "#     np.save('npy_data/mfcc/mfcc_%.1fms_testY.npy'%time_len, testY)\n",
    "    \n",
    "    print('mfcc data shape  -  %.1f ms'%time_len)\n",
    "    print('train set :', np.shape(trainX) , np.shape(trainY))\n",
    "    print('test set :', np.shape(testX) ,np.shape(testY))"
   ]
  },
  {
   "cell_type": "code",
   "execution_count": 34,
   "metadata": {},
   "outputs": [
    {
     "name": "stdout",
     "output_type": "stream",
     "text": [
      "0\n",
      "1\n",
      "2\n",
      "3\n",
      "4\n"
     ]
    },
    {
     "data": {
      "image/png": "[encoded data removed]",
      "text/plain": [
       "<Figure size 432x288 with 1 Axes>"
      ]
     },
     "metadata": {
      "needs_background": "light"
     },
     "output_type": "display_data"
    }
   ],
   "source": [
    "div_num = 720\n",
    "col_list = ['r', 'k', 'b', 'y', 'g']\n",
    "vow_list = ['a', 'e', 'i', 'o', 'u']\n",
    "for v in range(5):\n",
    "    dX = np.zeros(20)\n",
    "    for p in range(50):\n",
    "        p_num = 5*div_num*p\n",
    "        dX += np.mean(trainX[p_num + div_num*v : p_num + div_num*(v+1)], 0)\n",
    "    print(v)\n",
    "    plt.plot(dX[8:12]/50, col_list[v]+'.', label = vow_list[v])\n",
    "plt.legend()\n",
    "plt.savefig('img/data_analysis/%s_%.1f_check_8-12.png'%(data_type, time_len))\n",
    "plt.show()"
   ]
  },
  {
   "cell_type": "code",
   "execution_count": 7,
   "metadata": {},
   "outputs": [
    {
     "name": "stdout",
     "output_type": "stream",
     "text": [
      "mem data shape  -  0.5 ms\n",
      "train set : (200000, 10, 5) (200000, 5)\n",
      "test set : (60000, 10, 5) (60000, 5)\n"
     ]
    }
   ],
   "source": [
    "if data_type=='mem':\n",
    "    point_len = int(time_len*10)\n",
    "        \n",
    "    for k1 in range(50):\n",
    "        for k2 in range(5):\n",
    "            file_name = 'data/mem_20181226_2/aei%d_%d.dat'%(people_arr[k1], k2+1)\n",
    "            f = open(file_name)\n",
    "            \n",
    "            data = []\n",
    "            for k3 in f.readlines():\n",
    "                dline = k3.rstrip().split(\",\")\n",
    "                data.append([float(d) for d in dline])\n",
    "            \n",
    "            data = np.array(data)[:,:4000].reshape(10, -1, point_len).transpose(1,0,2)\n",
    "            dlabel = np.array([label_set[k2]]*len(data))\n",
    "            \n",
    "            if k1==0 and k2==0:\n",
    "                trainX = data\n",
    "                trainY = dlabel\n",
    "            else:\n",
    "                trainX = np.concatenate((trainX, data))\n",
    "                trainY = np.concatenate((trainY, dlabel))\n",
    "                \n",
    "    for k1 in range(15):\n",
    "        for k2 in range(5):\n",
    "            file_name = 'data/mem_20181226_2/aei%d_%d.dat'%(people_arr[50+k1], k2+1)\n",
    "            f = open(file_name)\n",
    "            \n",
    "            data = []\n",
    "            for k3 in f.readlines():\n",
    "                dline = k3.rstrip().split(\",\")\n",
    "                data.append([float(d) for d in dline])\n",
    "            \n",
    "            data = np.array(data)[:,:4000].reshape(10, -1, point_len).transpose(1,0,2)\n",
    "            dlabel = np.array([label_set[k2]]*len(data))\n",
    "            \n",
    "            if k1==0 and k2==0:\n",
    "                testX = data\n",
    "                testY = dlabel\n",
    "            else:\n",
    "                testX = np.concatenate((testX, data))\n",
    "                testY = np.concatenate((testY, dlabel))\n",
    "    \n",
    "#     np.save('npy_data/mem/mem_%.1fms_trainX.npy'%time_len, trainX)\n",
    "#     np.save('npy_data/mem/mem_%.1fms_trainY.npy'%time_len, trainY)\n",
    "#     np.save('npy_data/mem/mem_%.1fms_testX.npy'%time_len, testX)\n",
    "#     np.save('npy_data/mem/mem_%.1fms_testY.npy'%time_len, testY)\n",
    "    \n",
    "    print('mem data shape  -  %.1f ms'%time_len)\n",
    "    print('train set :', np.shape(trainX) , np.shape(trainY))\n",
    "    print('test set :', np.shape(testX) ,np.shape(testY))"
   ]
  }
 ],
 "metadata": {
  "kernelspec": {
   "display_name": "Python 3",
   "language": "python",
   "name": "python3"
  },
  "language_info": {
   "codemirror_mode": {
    "name": "ipython",
    "version": 3
   },
   "file_extension": ".py",
   "mimetype": "text/x-python",
   "name": "python",
   "nbconvert_exporter": "python",
   "pygments_lexer": "ipython3",
   "version": "3.7.4"
  }
 },
 "nbformat": 4,
 "nbformat_minor": 2
}
