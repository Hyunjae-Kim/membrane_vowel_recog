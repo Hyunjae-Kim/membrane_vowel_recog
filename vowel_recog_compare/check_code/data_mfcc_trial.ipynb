{
 "cells": [
  {
   "cell_type": "code",
   "execution_count": 1,
   "metadata": {},
   "outputs": [],
   "source": [
    "import numpy as np\n",
    "from scipy.io import wavfile\n",
    "import matplotlib.pyplot as plt\n",
    "from python_speech_features import mfcc"
   ]
  },
  {
   "cell_type": "code",
   "execution_count": 2,
   "metadata": {},
   "outputs": [],
   "source": [
    "## trial memo\n",
    "## trial 1 : no lifter\n",
    "## trial 2 : high freq = 8000\n",
    "## trial 3 : numcep = 13 / nfilt = 26"
   ]
  },
  {
   "cell_type": "code",
   "execution_count": 3,
   "metadata": {},
   "outputs": [],
   "source": [
    "data_type = 'mfcc'\n",
    "time_len = 0.5    ##ms\n",
    "trial_num = 0"
   ]
  },
  {
   "cell_type": "code",
   "execution_count": 4,
   "metadata": {},
   "outputs": [
    {
     "name": "stdout",
     "output_type": "stream",
     "text": [
      "[30 19 53 40 28 10 34  1  6  7 14 51 52 46 17 37  5 65 12 33 64 21 50 39\n",
      "  2 59 38 55 15  8 31 42 49 26 35 61  3 58 11 56 20 45 47 18 27 48 62 63\n",
      " 57 41  9 32 24 25 22 43  4 36 23 54 29 60 13 44 16]\n"
     ]
    }
   ],
   "source": [
    "np.random.seed(37)\n",
    "\n",
    "people_arr = np.arange(65)+1\n",
    "np.random.shuffle(people_arr)\n",
    "print(people_arr)\n",
    "\n",
    "##[30 19 53 40 28 10 34  1  6  7 14 51 52 46 17 37  5 65 12 33 64 21 50 39\n",
    "##  2 59 38 55 15  8 31 42 49 26 35 61  3 58 11 56 20 45 47 18 27 48 62 63\n",
    "## 57 41  9 32 24 25 22 43  4 36 23 54 29 60 13 44 16]\n",
    "\n",
    "label_set = [[1,0,0,0,0],[0,1,0,0,0],[0,0,1,0,0],[0,0,0,1,0],[0,0,0,0,1]]"
   ]
  },
  {
   "cell_type": "code",
   "execution_count": 5,
   "metadata": {},
   "outputs": [
    {
     "name": "stdout",
     "output_type": "stream",
     "text": [
      "mfcc data shape  -  0.5 ms\n",
      "train set : (180000, 20) (180000, 5)\n",
      "test set : (54000, 20) (54000, 5)\n"
     ]
    }
   ],
   "source": [
    "if data_type=='mfcc':\n",
    "    if time_len==0.5:\n",
    "        point_len = 25\n",
    "    else:\n",
    "        point_len = int(45000*time_len/1000)\n",
    "        \n",
    "    for k1 in range(50):\n",
    "        for k2 in range(5):\n",
    "            file_name = '../data/wav/OS1_%d_%d.wav'%(people_arr[k1], k2+1)\n",
    "            sr, wav = wavfile.read(file_name)\n",
    "            wav = (2./65535.) * (wav.astype(np.float32) - 32767) + 1.\n",
    "            wav = wav[:18000].reshape(-1, point_len)\n",
    "            for k3 in range(len(wav)):\n",
    "                if k3==0:\n",
    "                    mfcc_set = mfcc(wav[k3], samplerate=sr, winlen=len(wav[k3])/sr, winstep=len(wav[k3])/sr,\n",
    "                                    numcep=20, nfilt=40, nfft=len(wav[k3]), lowfreq=20, preemph=0.97, \n",
    "                                    ceplifter=22)\n",
    "                else:\n",
    "                    dmfcc = mfcc(wav[k3], samplerate=sr, winlen=len(wav[k3])/sr, winstep=len(wav[k3])/sr, \n",
    "                                 numcep=20, nfilt=40, nfft=len(wav[k3]), lowfreq=20, preemph=0.97, \n",
    "                                 ceplifter=22)\n",
    "                    mfcc_set = np.concatenate((mfcc_set, dmfcc))\n",
    "            dlabel = np.array([label_set[k2]]*len(wav))\n",
    "            \n",
    "            if k1==0 and k2==0:\n",
    "                trainX = mfcc_set\n",
    "                trainY = dlabel\n",
    "            else:\n",
    "                trainX = np.concatenate((trainX, mfcc_set))\n",
    "                trainY = np.concatenate((trainY, dlabel))\n",
    "    \n",
    "    for k1 in range(15):\n",
    "        for k2 in range(5):\n",
    "            file_name = '../data/wav/OS1_%d_%d.wav'%(people_arr[k1+50], k2+1)\n",
    "            sr, wav = wavfile.read(file_name)\n",
    "            wav = (2./65535.) * (wav.astype(np.float32) - 32767) + 1.\n",
    "            wav = wav[:18000].reshape(-1, point_len)\n",
    "            for k3 in range(len(wav)):\n",
    "                if k3==0:\n",
    "                    mfcc_set = mfcc(wav[k3], samplerate=sr, winlen=len(wav[k3])/sr, winstep=len(wav[k3])/sr,\n",
    "                                    numcep=20, nfilt=40, nfft=len(wav[k3]), lowfreq=20, preemph=0.97, \n",
    "                                    ceplifter=22)\n",
    "                else:\n",
    "                    dmfcc = mfcc(wav[k3], samplerate=sr, winlen=len(wav[k3])/sr, winstep=len(wav[k3])/sr, \n",
    "                                 numcep=20, nfilt=40, nfft=len(wav[k3]), lowfreq=20, preemph=0.97, \n",
    "                                 ceplifter=22)\n",
    "                    mfcc_set = np.concatenate((mfcc_set, dmfcc))\n",
    "            dlabel = np.array([label_set[k2]]*len(wav))\n",
    "            \n",
    "            if k1==0 and k2==0:\n",
    "                testX = mfcc_set\n",
    "                testY = dlabel\n",
    "            else:\n",
    "                testX = np.concatenate((testX, mfcc_set))\n",
    "                testY = np.concatenate((testY, dlabel))\n",
    "                \n",
    "    np.save('../npy_data/mfcc_trial/mfcc%d_%.1fms_trainX.npy'%(trial_num, time_len), trainX)\n",
    "    np.save('../npy_data/mfcc_trial/mfcc%d_%.1fms_trainY.npy'%(trial_num, time_len), trainY)\n",
    "    np.save('../npy_data/mfcc_trial/mfcc%d_%.1fms_testX.npy'%(trial_num, time_len), testX)\n",
    "    np.save('../npy_data/mfcc_trial/mfcc%d_%.1fms_testY.npy'%(trial_num, time_len), testY)\n",
    "    \n",
    "    print('mfcc data shape  -  %.1f ms'%time_len)\n",
    "    print('train set :', np.shape(trainX) , np.shape(trainY))\n",
    "    print('test set :', np.shape(testX) ,np.shape(testY))"
   ]
  },
  {
   "cell_type": "code",
   "execution_count": null,
   "metadata": {},
   "outputs": [],
   "source": []
  }
 ],
 "metadata": {
  "kernelspec": {
   "display_name": "Python 3",
   "language": "python",
   "name": "python3"
  },
  "language_info": {
   "codemirror_mode": {
    "name": "ipython",
    "version": 3
   },
   "file_extension": ".py",
   "mimetype": "text/x-python",
   "name": "python",
   "nbconvert_exporter": "python",
   "pygments_lexer": "ipython3",
   "version": "3.7.4"
  }
 },
 "nbformat": 4,
 "nbformat_minor": 2
}
