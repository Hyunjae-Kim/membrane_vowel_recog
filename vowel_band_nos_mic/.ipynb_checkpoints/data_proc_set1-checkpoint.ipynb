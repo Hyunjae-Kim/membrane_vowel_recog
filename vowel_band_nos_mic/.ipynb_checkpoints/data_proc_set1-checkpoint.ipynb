{
 "cells": [
  {
   "cell_type": "code",
   "execution_count": 1,
   "metadata": {},
   "outputs": [],
   "source": [
    "import numpy as np\n",
    "from scipy.io import wavfile\n",
    "import matplotlib.pyplot as plt"
   ]
  },
  {
   "cell_type": "code",
   "execution_count": 2,
   "metadata": {},
   "outputs": [
    {
     "name": "stdout",
     "output_type": "stream",
     "text": [
      "[30 19 53 40 28 10 34  1  6  7 14 51 52 46 17 37  5 65 12 33 64 21 50 39\n",
      "  2 59 38 55 15  8 31 42 49 26 35 61  3 58 11 56 20 45 47 18 27 48 62 63\n",
      " 57 41  9 32 24 25 22 43  4 36 23 54 29 60 13 44 16]\n"
     ]
    }
   ],
   "source": [
    "np.random.seed(37)\n",
    "\n",
    "data_num = 1\n",
    "people_arr = np.arange(65)+1\n",
    "np.random.shuffle(people_arr)\n",
    "print(people_arr)\n",
    "\n",
    "##[30 19 53 40 28 10 34  1  6  7 14 51 52 46 17 37  5 65 12 33 64 21 50 39\n",
    "##  2 59 38 55 15  8 31 42 49 26 35 61  3 58 11 56 20 45 47 18 27 48 62 63\n",
    "## 57 41  9 32 24 25 22 43  4 36 23 54 29 60 13 44 16]\n",
    "time_len = 20\n",
    "\n",
    "label_set = [[1,0,0,0,0],[0,1,0,0,0],[0,0,1,0,0],[0,0,0,1,0],[0,0,0,0,1]]\n",
    "\n",
    "ch_idx = [0,2,4,6,8,10,12,14,16,18]"
   ]
  },
  {
   "cell_type": "code",
   "execution_count": 3,
   "metadata": {
    "scrolled": true
   },
   "outputs": [
    {
     "name": "stdout",
     "output_type": "stream",
     "text": [
      "14 band ,10db data shape  -  20 ms\n",
      "train set : (5000, 10, 200) (5000, 5)\n",
      "test set : (1500, 10, 200) (1500, 5)\n",
      "14 band ,5db data shape  -  20 ms\n",
      "train set : (5000, 10, 200) (5000, 5)\n",
      "test set : (1500, 10, 200) (1500, 5)\n",
      "14 band ,0db data shape  -  20 ms\n",
      "train set : (5000, 10, 200) (5000, 5)\n",
      "test set : (1500, 10, 200) (1500, 5)\n",
      "14 band ,-5db data shape  -  20 ms\n",
      "train set : (5000, 10, 200) (5000, 5)\n",
      "test set : (1500, 10, 200) (1500, 5)\n",
      "14 band ,-10db data shape  -  20 ms\n",
      "train set : (5000, 10, 200) (5000, 5)\n",
      "test set : (1500, 10, 200) (1500, 5)\n",
      "14 band ,-15db data shape  -  20 ms\n",
      "train set : (5000, 10, 200) (5000, 5)\n",
      "test set : (1500, 10, 200) (1500, 5)\n"
     ]
    }
   ],
   "source": [
    "for n_band in [14]:\n",
    "    for SNR in [10, 5, 0, -5, -10, -15]:\n",
    "        time_len = 20\n",
    "        point_len = int(50000*time_len/1000)\n",
    "        for k1 in range(50):\n",
    "            for k2 in range(5):\n",
    "                file_name = 'data/set_data2/%dband/%ddb_%d_%d.npy'%(n_band, SNR, people_arr[k1], k2+1)\n",
    "                train = np.load(file_name)[ch_idx, 2000:-1]\n",
    "\n",
    "                train = train.transpose().reshape(-1, point_len, 10).transpose(0,2,1)[:,:,:point_len]\n",
    "                train_label = np.array([label_set[k2]]*len(train))\n",
    "\n",
    "                if k1==0 and k2==0:\n",
    "                    trainX = train\n",
    "                    trainY = train_label\n",
    "                else:\n",
    "                    trainX = np.concatenate((trainX, train))\n",
    "                    trainY = np.concatenate((trainY, train_label))\n",
    "\n",
    "        for k1 in range(15):\n",
    "            for k2 in range(5):\n",
    "                file_name = 'data/set_data2/%dband/%ddb_%d_%d.npy'%(n_band, SNR, people_arr[50+k1], k2+1)\n",
    "                test = np.load(file_name)[ch_idx,2000:-1]\n",
    "\n",
    "                test = test.transpose().reshape(-1, point_len, 10).transpose(0,2,1)[:,:,:point_len]\n",
    "                test_label = np.array([label_set[k2]]*len(test))\n",
    "\n",
    "                if k1==0 and k2==0:\n",
    "                    testX = test\n",
    "                    testY = test_label\n",
    "                else:\n",
    "                    testX = np.concatenate((testX, test))\n",
    "                    testY = np.concatenate((testY, test_label))\n",
    "\n",
    "        np.save('npy_data/set_data2/%dband/%ddb_mic_trainX.npy'\\\n",
    "                %(n_band, SNR), trainX[:,:,::5])\n",
    "        np.save('npy_data/set_data2/%dband/%ddb_mic_trainY.npy'\\\n",
    "                %(n_band, SNR), trainY)\n",
    "        np.save('npy_data/set_data2/%dband/%ddb_mic_testX.npy'\\\n",
    "                %(n_band, SNR), testX[:,:,::5])\n",
    "        np.save('npy_data/set_data2/%dband/%ddb_mic_testY.npy'\\\n",
    "                %(n_band, SNR), testY)\n",
    "\n",
    "        print('%d band ,%ddb data shape  -  20 ms'%(n_band, SNR))\n",
    "        print('train set :', np.shape(trainX[:,:,::5]) , np.shape(trainY))\n",
    "        print('test set :', np.shape(testX[:,:,::5]) ,np.shape(testY))"
   ]
  },
  {
   "cell_type": "code",
   "execution_count": null,
   "metadata": {},
   "outputs": [],
   "source": []
  }
 ],
 "metadata": {
  "kernelspec": {
   "display_name": "Python 3",
   "language": "python",
   "name": "python3"
  },
  "language_info": {
   "codemirror_mode": {
    "name": "ipython",
    "version": 3
   },
   "file_extension": ".py",
   "mimetype": "text/x-python",
   "name": "python",
   "nbconvert_exporter": "python",
   "pygments_lexer": "ipython3",
   "version": "3.7.4"
  }
 },
 "nbformat": 4,
 "nbformat_minor": 2
}
