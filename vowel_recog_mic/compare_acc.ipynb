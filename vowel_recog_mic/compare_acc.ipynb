{
 "cells": [
  {
   "cell_type": "code",
   "execution_count": 21,
   "metadata": {},
   "outputs": [],
   "source": [
    "import numpy as np\n",
    "import matplotlib.pyplot as plt"
   ]
  },
  {
   "cell_type": "code",
   "execution_count": 22,
   "metadata": {},
   "outputs": [
    {
     "data": {
      "image/png": "[encoded data removed]",
      "text/plain": [
       "<Figure size 432x288 with 1 Axes>"
      ]
     },
     "metadata": {
      "needs_background": "light"
     },
     "output_type": "display_data"
    },
    {
     "name": "stdout",
     "output_type": "stream",
     "text": [
      "[0.27871667 0.29223333 0.30013333 0.36333333 0.49883333 0.53958333]\n"
     ]
    }
   ],
   "source": [
    "time_list = ['0.5', '1.0', '5.0', '10.0', '20.0']\n",
    "ch_num = [19, 9, 5, 3, 1]\n",
    "model_num = 2\n",
    "data_num = 1\n",
    "\n",
    "whole_list = [ ]\n",
    "for k1 in range(len(ch_num)):\n",
    "    max_list = [ ]\n",
    "    for k2 in range(len(time_list)):\n",
    "        file_name = 'result/model%d/set_data%d/%dch/%s_acc_te.txt'%(model_num, data_num, \\\n",
    "                                                                    ch_num[k1], time_list[k2])\n",
    "        te_acc = np.loadtxt(file_name)\n",
    "        max_list.append(1-np.max(te_acc))\n",
    "    whole_list.append(max_list)\n",
    "\n",
    "max_list=[]\n",
    "for k2 in range(len(time_list)):\n",
    "    file_name = 'result/model%d/raw/%s_acc_te.txt'%(model_num, time_list[k2])\n",
    "    te_acc = np.loadtxt(file_name)\n",
    "    max_list.append(1-np.max(te_acc))\n",
    "whole_list.append(max_list)\n",
    "\n",
    "####plot\n",
    "x = np.arange(len(time_list))\n",
    "width = 0.12\n",
    "\n",
    "fig, ax = plt.subplots()\n",
    "rects0 = ax.bar(x - 3*width, whole_list[5], width, label='Raw')\n",
    "rects1 = ax.bar(x - 2*width, whole_list[4], width, label='1 oscillator')\n",
    "rects2 = ax.bar(x - width, whole_list[3], width, label='3 oscillator')\n",
    "rects3 = ax.bar(x, whole_list[2], width, label='5 oscillator')\n",
    "rects4 = ax.bar(x + width, whole_list[1], width, label='9 oscillator')\n",
    "rects5 = ax.bar(x + 2*width, whole_list[0], width, label='19 oscillator')\n",
    "\n",
    "ax.set_ylabel('Error rate', fontsize=14)\n",
    "ax.set_title('Accuracy comparison', fontsize=15)\n",
    "ax.set_xticks(x)\n",
    "ax.set_xticklabels(time_list)\n",
    "ax.set_xlabel('Time (ms)', fontsize=14)\n",
    "ax.set_xlim(-1,5)\n",
    "ax.set_ylim(0,1)\n",
    "ax.legend()\n",
    "\n",
    "fig.tight_layout()\n",
    "plt.savefig('img/model%d_set%d.png'%(model_num,data_num))\n",
    "plt.show()\n",
    "print(np.array(whole_list)[:,0])"
   ]
  },
  {
   "cell_type": "code",
   "execution_count": 23,
   "metadata": {},
   "outputs": [
    {
     "data": {
      "image/png": "[encoded data removed]",
      "text/plain": [
       "<Figure size 432x288 with 1 Axes>"
      ]
     },
     "metadata": {
      "needs_background": "light"
     },
     "output_type": "display_data"
    },
    {
     "name": "stdout",
     "output_type": "stream",
     "text": [
      "[0.27871667 0.53958333 0.54038333]\n"
     ]
    }
   ],
   "source": [
    "time_list = ['0.5', '1.0', '5.0', '10.0', '20.0']\n",
    "model_num = 2\n",
    "data_num = 1\n",
    "\n",
    "whole_list = []\n",
    "max_list = [ ]\n",
    "for k2 in range(len(time_list)):\n",
    "    file_name = 'result/model%d/set_data%d/19ch/%s_acc_te.txt'%(model_num, data_num, time_list[k2])\n",
    "    te_acc = np.loadtxt(file_name)\n",
    "    max_list.append(1-np.max(te_acc))\n",
    "whole_list.append(max_list)\n",
    "\n",
    "max_list=[]\n",
    "for k2 in range(len(time_list)):\n",
    "    file_name = 'result/model%d/raw/%s_acc_te.txt'%(model_num, time_list[k2])\n",
    "    te_acc = np.loadtxt(file_name)\n",
    "    max_list.append(1-np.max(te_acc))\n",
    "whole_list.append(max_list)\n",
    "\n",
    "max_list=[]\n",
    "for k2 in range(len(time_list)):\n",
    "    file_name = 'result/model%d/mfcc/%s_acc_te.txt'%(model_num, time_list[k2])\n",
    "    te_acc = np.loadtxt(file_name)\n",
    "    max_list.append(1-np.max(te_acc))\n",
    "whole_list.append(max_list)\n",
    "\n",
    "####plot\n",
    "x = np.arange(len(time_list))\n",
    "width = 0.2\n",
    "\n",
    "fig, ax = plt.subplots()\n",
    "rects1 = ax.bar(x - 1*width, whole_list[2], width, label='MFCC')\n",
    "rects0 = ax.bar(x +0*width, whole_list[1], width, label='Raw')\n",
    "rects5 = ax.bar(x +1*width, whole_list[0], width, label='19 oscillator')\n",
    "\n",
    "ax.set_ylabel('Error rate')\n",
    "ax.set_title('Accuracy comparison')\n",
    "ax.set_xticks(x)\n",
    "ax.set_xticklabels(time_list)\n",
    "ax.set_xlabel('Time (ms)')\n",
    "ax.set_xlim(-1,5)\n",
    "ax.set_ylim(0,1)\n",
    "ax.legend()\n",
    "\n",
    "fig.tight_layout()\n",
    "plt.savefig('img/model%d_set%d_compare.png'%(model_num,data_num))\n",
    "plt.show()\n",
    "\n",
    "print(np.array(whole_list)[:,0])"
   ]
  },
  {
   "cell_type": "code",
   "execution_count": null,
   "metadata": {},
   "outputs": [],
   "source": []
  }
 ],
 "metadata": {
  "kernelspec": {
   "display_name": "Python 3",
   "language": "python",
   "name": "python3"
  },
  "language_info": {
   "codemirror_mode": {
    "name": "ipython",
    "version": 3
   },
   "file_extension": ".py",
   "mimetype": "text/x-python",
   "name": "python",
   "nbconvert_exporter": "python",
   "pygments_lexer": "ipython3",
   "version": "3.7.4"
  }
 },
 "nbformat": 4,
 "nbformat_minor": 2
}
