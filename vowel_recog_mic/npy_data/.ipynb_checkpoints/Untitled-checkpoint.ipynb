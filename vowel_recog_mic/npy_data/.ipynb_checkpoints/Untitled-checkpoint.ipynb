{
 "cells": [
  {
   "cell_type": "code",
   "execution_count": 1,
   "metadata": {},
   "outputs": [],
   "source": [
    "import numpy as np\n",
    "from scipy.io import wavfile\n",
    "from scipy.signal import hilbert\n",
    "import matplotlib.pyplot as plt"
   ]
  },
  {
   "cell_type": "code",
   "execution_count": 2,
   "metadata": {},
   "outputs": [
    {
     "name": "stdout",
     "output_type": "stream",
     "text": [
      "(5000, 10, 200) (5000, 5)\n",
      "(1500, 10, 200) (1500, 5)\n",
      "(5000, 10, 200) (1500, 10, 200)\n"
     ]
    }
   ],
   "source": [
    "band_list = [0, 2, 4, 6, 8, 10, 12, 14, 16, 18]\n",
    "\n",
    "trainX = np.load('set_data1/19ch/19ch_20.0ms_trainX.npy')\n",
    "trainY = np.load('set_data1/19ch/19ch_20.0ms_trainY.npy')\n",
    "testX = np.load('set_data1/19ch/19ch_20.0ms_testX.npy')\n",
    "testY = np.load('set_data1/19ch/19ch_20.0ms_testY.npy')\n",
    "\n",
    "trainX = trainX[:,band_list, :]\n",
    "testX = testX[:, band_list, :]\n",
    "\n",
    "tr_envX = np.abs(hilbert(trainX.copy()))\n",
    "te_envX = np.abs(hilbert(testX.copy()))\n",
    "\n",
    "np.save('set_data1_band_env/10ch_20.0ms_trainX.npy', trainX)\n",
    "np.save('set_data1_band_env/10ch_20.0ms_trainY.npy', trainY)\n",
    "np.save('set_data1_band_env/10ch_20.0ms_testX.npy', testX)\n",
    "np.save('set_data1_band_env/10ch_20.0ms_testY.npy', testY)\n",
    "\n",
    "np.save('set_data1_band_env/10ch_20.0ms_tr_envX.npy', tr_envX)\n",
    "np.save('set_data1_band_env/10ch_20.0ms_te_envX.npy', te_envX)\n",
    "\n",
    "print(np.shape(trainX), np.shape(trainY))\n",
    "print(np.shape(testX), np.shape(testY))\n",
    "\n",
    "print(np.shape(tr_envX), np.shape(te_envX))\n",
    "\n",
    "\n"
   ]
  }
 ],
 "metadata": {
  "kernelspec": {
   "display_name": "Python 3",
   "language": "python",
   "name": "python3"
  },
  "language_info": {
   "codemirror_mode": {
    "name": "ipython",
    "version": 3
   },
   "file_extension": ".py",
   "mimetype": "text/x-python",
   "name": "python",
   "nbconvert_exporter": "python",
   "pygments_lexer": "ipython3",
   "version": "3.7.4"
  }
 },
 "nbformat": 4,
 "nbformat_minor": 2
}
