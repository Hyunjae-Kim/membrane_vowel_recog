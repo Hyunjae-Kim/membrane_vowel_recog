{
 "cells": [
  {
   "cell_type": "code",
   "execution_count": 1,
   "metadata": {},
   "outputs": [],
   "source": [
    "import numpy as np\n",
    "from scipy.io import wavfile\n",
    "import matplotlib.pyplot as plt"
   ]
  },
  {
   "cell_type": "code",
   "execution_count": 2,
   "metadata": {},
   "outputs": [
    {
     "name": "stdout",
     "output_type": "stream",
     "text": [
      "[30 19 53 40 28 10 34  1  6  7 14 51 52 46 17 37  5 65 12 33 64 21 50 39\n",
      "  2 59 38 55 15  8 31 42 49 26 35 61  3 58 11 56 20 45 47 18 27 48 62 63\n",
      " 57 41  9 32 24 25 22 43  4 36 23 54 29 60 13 44 16]\n"
     ]
    }
   ],
   "source": [
    "np.random.seed(37)\n",
    "\n",
    "people_arr = np.arange(65)+1\n",
    "np.random.shuffle(people_arr)\n",
    "print(people_arr)\n",
    "\n",
    "##[30 19 53 40 28 10 34  1  6  7 14 51 52 46 17 37  5 65 12 33 64 21 50 39\n",
    "##  2 59 38 55 15  8 31 42 49 26 35 61  3 58 11 56 20 45 47 18 27 48 62 63\n",
    "## 57 41  9 32 24 25 22 43  4 36 23 54 29 60 13 44 16]\n",
    "\n",
    "label_set = [[1,0,0,0,0],[0,1,0,0,0],[0,0,1,0,0],[0,0,0,1,0],[0,0,0,0,1]]\n",
    "\n",
    "ch_list = [19]\n",
    "time_list = [20]\n",
    "\n",
    "ch_idx = [[0,1,2,3,4,5,6,7,8,9,10,11,12,13,14,15,16,17,18]]"
   ]
  },
  {
   "cell_type": "code",
   "execution_count": 3,
   "metadata": {},
   "outputs": [
    {
     "name": "stdout",
     "output_type": "stream",
     "text": [
      "15db_water data shape  -  20.0 ms\n",
      "train set : (5000, 19, 200) (5000, 5)\n",
      "test set : (1500, 19, 200) (1500, 5)\n",
      "10db_water data shape  -  20.0 ms\n",
      "train set : (5000, 19, 200) (5000, 5)\n",
      "test set : (1500, 19, 200) (1500, 5)\n",
      "5db_water data shape  -  20.0 ms\n",
      "train set : (5000, 19, 200) (5000, 5)\n",
      "test set : (1500, 19, 200) (1500, 5)\n",
      "0db_water data shape  -  20.0 ms\n",
      "train set : (5000, 19, 200) (5000, 5)\n",
      "test set : (1500, 19, 200) (1500, 5)\n",
      "-5db_water data shape  -  20.0 ms\n",
      "train set : (5000, 19, 200) (5000, 5)\n",
      "test set : (1500, 19, 200) (1500, 5)\n",
      "-10db_water data shape  -  20.0 ms\n",
      "train set : (5000, 19, 200) (5000, 5)\n",
      "test set : (1500, 19, 200) (1500, 5)\n",
      "-15db_water data shape  -  20.0 ms\n",
      "train set : (5000, 19, 200) (5000, 5)\n",
      "test set : (1500, 19, 200) (1500, 5)\n",
      "-20db_water data shape  -  20.0 ms\n",
      "train set : (5000, 19, 200) (5000, 5)\n",
      "test set : (1500, 19, 200) (1500, 5)\n"
     ]
    }
   ],
   "source": [
    "for SNR in [15, 10, 5, 0, -5, -10, -15, -20]:\n",
    "    time_len = 20\n",
    "    ch_num = 19\n",
    "    point_len = int(50000*time_len/1000)\n",
    "    for k1 in range(50):\n",
    "        for k2 in range(5):\n",
    "            file_name = 'data/water_noise/mic_water/%ddb_%d_%d.npy'%(SNR, people_arr[k1], k2+1)\n",
    "            train = np.load(file_name)[:,2000:-1]\n",
    "\n",
    "            train = train.transpose().reshape(-1,point_len,ch_num).transpose(0,2,1)[:,:,:point_len]\n",
    "            train_label = np.array([label_set[k2]]*len(train))\n",
    "\n",
    "            if k1==0 and k2==0:\n",
    "                trainX = train\n",
    "                trainY = train_label\n",
    "            else:\n",
    "                trainX = np.concatenate((trainX, train))\n",
    "                trainY = np.concatenate((trainY, train_label))\n",
    "\n",
    "    for k1 in range(15):\n",
    "        for k2 in range(5):\n",
    "            file_name = 'data/water_noise/mic_water/%ddb_%d_%d.npy'%(SNR, people_arr[50+k1], k2+1)\n",
    "            test = np.load(file_name)[:,2000:-1]\n",
    "\n",
    "            test = test.transpose().reshape(-1,point_len,ch_num).transpose(0,2,1)[:,:,:point_len]\n",
    "            test_label = np.array([label_set[k2]]*len(test))\n",
    "\n",
    "            if k1==0 and k2==0:\n",
    "                testX = test\n",
    "                testY = test_label\n",
    "            else:\n",
    "                testX = np.concatenate((testX, test))\n",
    "                testY = np.concatenate((testY, test_label))\n",
    "\n",
    "    np.save('npy_data/mic_water/%ddb/%ddb_mic_water_%.1fms_trainX.npy'\\\n",
    "            %(SNR, SNR, time_len), trainX[:,:,::5])\n",
    "    np.save('npy_data/mic_water/%ddb/%ddb_mic_water_%.1fms_trainY.npy'\\\n",
    "            %(SNR, SNR, time_len), trainY)\n",
    "    np.save('npy_data/mic_water/%ddb/%ddb_mic_water_%.1fms_testX.npy'\\\n",
    "            %(SNR, SNR, time_len), testX[:,:,::5])\n",
    "    np.save('npy_data/mic_water/%ddb/%ddb_mic_water_%.1fms_testY.npy'\\\n",
    "            %(SNR, SNR, time_len), testY)\n",
    "\n",
    "    print('%ddb_water data shape  -  %.1f ms'%(SNR, time_len))\n",
    "    print('train set :', np.shape(trainX[:,:,::5]) , np.shape(trainY))\n",
    "    print('test set :', np.shape(testX[:,:,::5]) ,np.shape(testY))"
   ]
  },
  {
   "cell_type": "code",
   "execution_count": 4,
   "metadata": {},
   "outputs": [
    {
     "name": "stdout",
     "output_type": "stream",
     "text": [
      "raw_water 15 db shape  -  20.0 ms\n",
      "train set : (5000, 200) (5000, 5)\n",
      "test set : (1500, 200) (1500, 5)\n",
      "raw_water 10 db shape  -  20.0 ms\n",
      "train set : (5000, 200) (5000, 5)\n",
      "test set : (1500, 200) (1500, 5)\n",
      "raw_water 5 db shape  -  20.0 ms\n",
      "train set : (5000, 200) (5000, 5)\n",
      "test set : (1500, 200) (1500, 5)\n",
      "raw_water 0 db shape  -  20.0 ms\n",
      "train set : (5000, 200) (5000, 5)\n",
      "test set : (1500, 200) (1500, 5)\n",
      "raw_water -5 db shape  -  20.0 ms\n",
      "train set : (5000, 200) (5000, 5)\n",
      "test set : (1500, 200) (1500, 5)\n",
      "raw_water -10 db shape  -  20.0 ms\n",
      "train set : (5000, 200) (5000, 5)\n",
      "test set : (1500, 200) (1500, 5)\n",
      "raw_water -15 db shape  -  20.0 ms\n",
      "train set : (5000, 200) (5000, 5)\n",
      "test set : (1500, 200) (1500, 5)\n",
      "raw_water -20 db shape  -  20.0 ms\n",
      "train set : (5000, 200) (5000, 5)\n",
      "test set : (1500, 200) (1500, 5)\n"
     ]
    }
   ],
   "source": [
    "for SNR in [15, 10, 5, 0, -5, -10, -15, -20]:\n",
    "    time_len = 20\n",
    "    point_len = int(50000*time_len/1000)\n",
    "    for k1 in range(50):\n",
    "        for k2 in range(5):\n",
    "            file_name = 'data/water_noise/raw_water/%ddb_%d_%d.npy'%(SNR, people_arr[k1], k2+1)\n",
    "            train = np.load(file_name)[2000:-1]\n",
    "\n",
    "            train = train.reshape(-1,point_len)[:,:point_len]\n",
    "            train_label = np.array([label_set[k2]]*len(train))\n",
    "\n",
    "            if k1==0 and k2==0:\n",
    "                trainX = train\n",
    "                trainY = train_label\n",
    "            else:\n",
    "                trainX = np.concatenate((trainX, train))\n",
    "                trainY = np.concatenate((trainY, train_label))\n",
    "\n",
    "    for k1 in range(15):\n",
    "        for k2 in range(5):\n",
    "            file_name = 'data/water_noise/raw_water/%ddb_%d_%d.npy'%(SNR, people_arr[50+k1], k2+1)\n",
    "            test = np.load(file_name)[2000:-1]\n",
    "\n",
    "            test = test.reshape(-1,point_len)[:,:point_len]\n",
    "            test_label = np.array([label_set[k2]]*len(test))\n",
    "\n",
    "            if k1==0 and k2==0:\n",
    "                testX = test\n",
    "                testY = test_label\n",
    "            else:\n",
    "                testX = np.concatenate((testX, test))\n",
    "                testY = np.concatenate((testY, test_label))\n",
    "\n",
    "    np.save('npy_data/raw_water/%ddb/%ddb_raw_water_%.1fms_trainX.npy'\\\n",
    "            %(SNR, SNR, time_len), trainX[:,::5])\n",
    "    np.save('npy_data/raw_water/%ddb/%ddb_raw_water_%.1fms_trainY.npy'\\\n",
    "            %(SNR, SNR, time_len), trainY)\n",
    "    np.save('npy_data/raw_water/%ddb/%ddb_raw_water_%.1fms_testX.npy'\\\n",
    "            %(SNR, SNR, time_len), testX[:,::5])\n",
    "    np.save('npy_data/raw_water/%ddb/%ddb_raw_water_%.1fms_testY.npy'\\\n",
    "            %(SNR, SNR, time_len), testY)\n",
    "\n",
    "    print('raw_water %d db shape  -  %.1f ms'%(SNR, time_len))\n",
    "    print('train set :', np.shape(trainX[:,::5]) , np.shape(trainY))\n",
    "    print('test set :', np.shape(testX[:,::5]) ,np.shape(testY))"
   ]
  },
  {
   "cell_type": "code",
   "execution_count": 7,
   "metadata": {},
   "outputs": [
    {
     "name": "stdout",
     "output_type": "stream",
     "text": [
      "(5000, 101) (1500, 101)\n",
      "(5000, 101) (1500, 101)\n",
      "(5000, 101) (1500, 101)\n",
      "(5000, 101) (1500, 101)\n",
      "(5000, 101) (1500, 101)\n",
      "(5000, 101) (1500, 101)\n",
      "(5000, 101) (1500, 101)\n",
      "(5000, 101) (1500, 101)\n"
     ]
    }
   ],
   "source": [
    "for SNR in [15,10,5,0,-5,-10,-15,-20]:\n",
    "    wav_trX = np.load('npy_data/raw_water/%ddb/%ddb_raw_water_20.0ms_trainX.npy'%(SNR,SNR))\n",
    "    wav_trY = np.load('npy_data/raw_water/%ddb/%ddb_raw_water_20.0ms_trainY.npy'%(SNR,SNR))\n",
    "    wav_teX = np.load('npy_data/raw_water/%ddb/%ddb_raw_water_20.0ms_testX.npy'%(SNR,SNR))\n",
    "    wav_teY = np.load('npy_data/raw_water/%ddb/%ddb_raw_water_20.0ms_testY.npy'%(SNR,SNR))\n",
    "    \n",
    "    fft_tr = np.abs(np.fft.rfft(wav_trX))\n",
    "    fft_te = np.abs(np.fft.rfft(wav_teX))\n",
    "    \n",
    "#     df = 1/0.02\n",
    "#     freq_axis = np.arange(len(fft_te[0]))*df\n",
    "#     plt.plot(freq_axis, fft_te[0])\n",
    "#     plt.xlabel('Frequency (Hz)')\n",
    "#     plt.title('SNR - %d dB'%SNR)\n",
    "#     plt.savefig('img/fft_plot/%ddB_fft.png'%SNR)\n",
    "#     plt.show()\n",
    "    np.save('npy_data/fft_water/%ddb/%ddb_fft_water_20.0ms_trainX.npy'%(SNR, SNR), fft_tr)\n",
    "    np.save('npy_data/fft_water/%ddb/%ddb_fft_water_20.0ms_trainY.npy'%(SNR, SNR), wav_trY)\n",
    "    np.save('npy_data/fft_water/%ddb/%ddb_fft_water_20.0ms_testX.npy'%(SNR, SNR), fft_te)\n",
    "    np.save('npy_data/fft_water/%ddb/%ddb_fft_water_20.0ms_testY.npy'%(SNR, SNR), wav_teY)\n",
    "    \n",
    "    print(np.shape(fft_tr), np.shape(fft_te))"
   ]
  }
 ],
 "metadata": {
  "kernelspec": {
   "display_name": "Python 3",
   "language": "python",
   "name": "python3"
  },
  "language_info": {
   "codemirror_mode": {
    "name": "ipython",
    "version": 3
   },
   "file_extension": ".py",
   "mimetype": "text/x-python",
   "name": "python",
   "nbconvert_exporter": "python",
   "pygments_lexer": "ipython3",
   "version": "3.7.4"
  }
 },
 "nbformat": 4,
 "nbformat_minor": 2
}
