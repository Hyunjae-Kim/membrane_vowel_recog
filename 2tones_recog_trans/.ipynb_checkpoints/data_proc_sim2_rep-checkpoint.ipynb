{
 "cells": [
  {
   "cell_type": "code",
   "execution_count": 1,
   "metadata": {},
   "outputs": [],
   "source": [
    "import numpy as np\n",
    "import matplotlib.pyplot as plt\n",
    "from python_speech_features import mfcc"
   ]
  },
  {
   "cell_type": "code",
   "execution_count": 2,
   "metadata": {},
   "outputs": [
    {
     "name": "stdout",
     "output_type": "stream",
     "text": [
      "(190, 20)\n"
     ]
    }
   ],
   "source": [
    "np.random.seed(37)\n",
    "\n",
    "data_num = 2\n",
    "run_type = 'ch'\n",
    "\n",
    "label_set = []\n",
    "for g1 in range(0,20):\n",
    "    for g2 in range(g1+1,20):\n",
    "        dL = [0, 0, 0, 0, 0, 0, 0, 0, 0, 0, 0, 0, 0, 0, 0, 0, 0, 0, 0, 0]\n",
    "        dL[g1] = 1\n",
    "        dL[g2] = 1\n",
    "        label_set.append(dL)\n",
    "label_set = np.array(label_set)\n",
    "print(np.shape(label_set))\n",
    "\n",
    "ch_list = [1, 3, 5, 9, 19]\n",
    "time_list = [1.0]\n",
    "\n",
    "ch_idx = [[9], [4,9,14], [3,6,9,12,15],\n",
    "          [1,3,5,7,9,11,13,15,17], [0,1,2,3,4,5,6,7,8,9,10,11,12,13,14,15,16,17,18]]"
   ]
  },
  {
   "cell_type": "code",
   "execution_count": 3,
   "metadata": {},
   "outputs": [
    {
     "name": "stdout",
     "output_type": "stream",
     "text": [
      "1ch data shape  -  1.0 ms\n",
      "train set : (76000, 1, 10) (76000, 20)\n",
      "test set : (19000, 1, 10) (19000, 20)\n",
      "3ch data shape  -  1.0 ms\n",
      "train set : (76000, 3, 10) (76000, 20)\n",
      "test set : (19000, 3, 10) (19000, 20)\n",
      "5ch data shape  -  1.0 ms\n",
      "train set : (76000, 5, 10) (76000, 20)\n",
      "test set : (19000, 5, 10) (19000, 20)\n",
      "9ch data shape  -  1.0 ms\n",
      "train set : (76000, 9, 10) (76000, 20)\n",
      "test set : (19000, 9, 10) (19000, 20)\n",
      "19ch data shape  -  1.0 ms\n",
      "train set : (76000, 19, 10) (76000, 20)\n",
      "test set : (19000, 19, 10) (19000, 20)\n"
     ]
    }
   ],
   "source": [
    "if run_type=='ch':\n",
    "    for ccc in range(len(ch_list)):\n",
    "        ch_num = ch_list[ccc]\n",
    "        for ttt in time_list:\n",
    "            time_len = ttt\n",
    "            point_len = int(50000*time_len/1000)\n",
    "            count = -1\n",
    "            for freq1 in range(600, 700, 5):\n",
    "                for freq2 in range(freq1+5, 700, 5):\n",
    "                    if freq1==freq2: print('same'); continue\n",
    "\n",
    "                    count += 1\n",
    "                    data = np.load('data/sim_data2/mic_%.1f/%d_%d.npy'\\\n",
    "                                   %(time_len, freq1, freq2))[:,ch_idx[ccc]]\n",
    "                    train = data[:400,:,:point_len]\n",
    "                    test = data[400:,:,:point_len]\n",
    "                    lab_train = np.array([label_set[count]]*len(train))\n",
    "                    lab_test = np.array([label_set[count]]*len(test))\n",
    "                    if count==0:\n",
    "                        trainX = train\n",
    "                        trainY = lab_train\n",
    "                        testX = test\n",
    "                        testY = lab_test\n",
    "                    else:\n",
    "                        trainX = np.concatenate((trainX, train))\n",
    "                        trainY = np.concatenate((trainY, lab_train))\n",
    "                        testX = np.concatenate((testX, test))\n",
    "                        testY = np.concatenate((testY, lab_test))\n",
    "\n",
    "            np.save('npy_data/sim_data%d_%.1f/%dch/%dch_%.1fms_trainX.npy'\\\n",
    "                    %(data_num, time_len, ch_num, ch_num, time_len), trainX[:,:,::5])\n",
    "            np.save('npy_data/sim_data%d_%.1f/%dch/%dch_%.1fms_trainY.npy'\\\n",
    "                    %(data_num, time_len, ch_num, ch_num, time_len), trainY)\n",
    "            np.save('npy_data/sim_data%d_%.1f/%dch/%dch_%.1fms_testX.npy'\\\n",
    "                    %(data_num, time_len, ch_num, ch_num, time_len), testX[:,:,::5])\n",
    "            np.save('npy_data/sim_data%d_%.1f/%dch/%dch_%.1fms_testY.npy'\\\n",
    "                    %(data_num, time_len, ch_num, ch_num, time_len), testY)\n",
    "\n",
    "            print('%dch data shape  -  %.1f ms'%(ch_num, time_len))\n",
    "            print('train set :', np.shape(trainX[:,:,::5]) , np.shape(trainY))\n",
    "            print('test set :', np.shape(testX[:,:,::5]) ,np.shape(testY))"
   ]
  },
  {
   "cell_type": "code",
   "execution_count": 4,
   "metadata": {},
   "outputs": [],
   "source": [
    "if run_type=='raw':\n",
    "    for ttt in time_list:\n",
    "        time_len = ttt\n",
    "        point_len = int(50000*time_len/1000)\n",
    "        count = -1\n",
    "        for freq1 in range(600, 700, 5):\n",
    "            for freq2 in range(freq1+5, 700, 5):\n",
    "                if freq1==freq2: print('same'); continue\n",
    "\n",
    "                count += 1\n",
    "                data = np.load('data/sim_data2/raw_%.1f/%d_%d.npy'\\\n",
    "                               %(time_len, freq1, freq2))\n",
    "                train = data[:400,:point_len]\n",
    "                test = data[400:,:point_len]\n",
    "                lab_train = np.array([label_set[count]]*len(train))\n",
    "                lab_test = np.array([label_set[count]]*len(test))\n",
    "                if count==0:\n",
    "                    trainX = train\n",
    "                    trainY = lab_train\n",
    "                    testX = test\n",
    "                    testY = lab_test\n",
    "                else:\n",
    "                    trainX = np.concatenate((trainX, train))\n",
    "                    trainY = np.concatenate((trainY, lab_train))\n",
    "                    testX = np.concatenate((testX, test))\n",
    "                    testY = np.concatenate((testY, lab_test))\n",
    "\n",
    "        np.save('npy_data/sim_data%d_%.1f/raw/raw_%.1fms_trainX.npy'\\\n",
    "                %(data_num, time_len, time_len), trainX[:,::5])\n",
    "        np.save('npy_data/sim_data%d_%.1f/raw/raw_%.1fms_trainY.npy'\\\n",
    "                %(data_num, time_len, time_len), trainY)\n",
    "        np.save('npy_data/sim_data%d_%.1f/raw/raw_%.1fms_testX.npy'\\\n",
    "                %(data_num, time_len, time_len), testX[:,::5])\n",
    "        np.save('npy_data/sim_data%d_%.1f/raw/raw_%.1fms_testY.npy'\\\n",
    "                %(data_num, time_len, time_len), testY)\n",
    "\n",
    "        print('raw data shape  -  %.1f ms'%(time_len))\n",
    "        print('train set :', np.shape(trainX[:,::5]) , np.shape(trainY))\n",
    "        print('test set :', np.shape(testX[:,::5]) ,np.shape(testY))"
   ]
  }
 ],
 "metadata": {
  "kernelspec": {
   "display_name": "Python 3",
   "language": "python",
   "name": "python3"
  },
  "language_info": {
   "codemirror_mode": {
    "name": "ipython",
    "version": 3
   },
   "file_extension": ".py",
   "mimetype": "text/x-python",
   "name": "python",
   "nbconvert_exporter": "python",
   "pygments_lexer": "ipython3",
   "version": "3.7.4"
  }
 },
 "nbformat": 4,
 "nbformat_minor": 2
}
