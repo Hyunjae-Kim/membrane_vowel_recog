{
 "cells": [
  {
   "cell_type": "code",
   "execution_count": 1,
   "metadata": {},
   "outputs": [],
   "source": [
    "import numpy as np\n",
    "import matplotlib.pyplot as plt"
   ]
  },
  {
   "cell_type": "code",
   "execution_count": 2,
   "metadata": {},
   "outputs": [],
   "source": [
    "time_list = ['0.5', '1.0', '5.0', '10.0', '20.0']\n",
    "data_type = ['mem', 'raw']#'mfcc', 'raw', 'fft']\n",
    "model_num = 2\n",
    "\n",
    "whole_list = [ ]\n",
    "for k1 in range(2):\n",
    "    max_list = [ ]\n",
    "    for k2 in range(len(time_list)):\n",
    "        file_name = 'result/model%d/%s/%s_acc_te.txt'%(model_num, data_type[k1], time_list[k2])\n",
    "        te_acc = np.loadtxt(file_name)\n",
    "#         if k2==2:\n",
    "#             print(data_type[k1], time_list[k2])\n",
    "#             print(np.max(te_acc))\n",
    "        max_list.append(1-np.max(te_acc))\n",
    "    whole_list.append(max_list)"
   ]
  },
  {
   "cell_type": "code",
   "execution_count": 3,
   "metadata": {},
   "outputs": [
    {
     "name": "stdout",
     "output_type": "stream",
     "text": [
      "[[0.4521447368421052, 0.3306184210526316, 0.08859210526315786, 0.022526315789473728, 0.012960526315789478], [0.9906578947368421, 0.9776315789473684, 0.32988157894736847, 0.10713157894736847, 0.023026315789473673]]\n"
     ]
    }
   ],
   "source": [
    "print(whole_list)"
   ]
  },
  {
   "cell_type": "code",
   "execution_count": 4,
   "metadata": {},
   "outputs": [
    {
     "data": {
      "image/png": "[encoded data removed]",
      "text/plain": [
       "<Figure size 432x288 with 1 Axes>"
      ]
     },
     "metadata": {
      "needs_background": "light"
     },
     "output_type": "display_data"
    }
   ],
   "source": [
    "x = np.arange(len(time_list))\n",
    "width = 0.15\n",
    "\n",
    "fig, ax = plt.subplots()\n",
    "rects1 = ax.bar(x - 2*width, whole_list[0], width, label='Membrane')\n",
    "# rects2 = ax.bar(x - width, whole_list[1], width, label='MFCC')\n",
    "rects3 = ax.bar(x, whole_list[1], width, label='Raw')\n",
    "# rects4 = ax.bar(x + width, whole_list[3], width, label='FFT')\n",
    "\n",
    "ax.set_ylabel('Error rate')\n",
    "ax.set_title('Accuracy comparison')\n",
    "ax.set_xticks(x)\n",
    "ax.set_xticklabels(time_list)\n",
    "ax.legend()\n",
    "\n",
    "# def autolabel(rects):\n",
    "#     for rect in rects:\n",
    "#         height = rect.get_height()\n",
    "#         ax.annotate('{}'.format(height),\n",
    "#                     xy=(rect.get_x() + rect.get_width() / 2, height),\n",
    "#                     xytext=(0, 3),  # 3 points vertical offset\n",
    "#                     textcoords=\"offset points\",\n",
    "#                     ha='center', va='bottom')\n",
    "        \n",
    "# autolabel(rects1)\n",
    "# autolabel(rects2)\n",
    "# autolabel(rects3)\n",
    "# autolabel(rects4)\n",
    "\n",
    "fig.tight_layout()\n",
    "plt.savefig('img/compare_model%d.png'%model_num)\n",
    "plt.show()"
   ]
  },
  {
   "cell_type": "code",
   "execution_count": null,
   "metadata": {},
   "outputs": [],
   "source": []
  }
 ],
 "metadata": {
  "kernelspec": {
   "display_name": "Python 3",
   "language": "python",
   "name": "python3"
  },
  "language_info": {
   "codemirror_mode": {
    "name": "ipython",
    "version": 3
   },
   "file_extension": ".py",
   "mimetype": "text/x-python",
   "name": "python",
   "nbconvert_exporter": "python",
   "pygments_lexer": "ipython3",
   "version": "3.7.4"
  }
 },
 "nbformat": 4,
 "nbformat_minor": 2
}
